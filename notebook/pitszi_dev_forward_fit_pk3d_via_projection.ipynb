{
 "cells": [
  {
   "cell_type": "raw",
   "id": "94f39b6a",
   "metadata": {},
   "source": [
    "This notebook uses the method from pitszi_dev_forward_pk3d_model_via_window_function_and_mbb (i.e. computing the expected Pk2d model from Pk3d via Kmnmn and window function) to fit mock data and test the reliability of the fit."
   ]
  },
  {
   "cell_type": "markdown",
   "id": "b338710c",
   "metadata": {},
   "source": [
    "# Imports"
   ]
  },
  {
   "cell_type": "code",
   "execution_count": 1,
   "id": "fd7235e7",
   "metadata": {},
   "outputs": [],
   "source": [
    "import sys\n",
    "import os\n",
    "sys.path.insert(0,'/Users/adam/Project/NIKA/Software/Processing/Labtools/RA/pitszi/')\n",
    "\n",
    "import numpy as np\n",
    "import matplotlib.pyplot as plt\n",
    "from astropy.coordinates import SkyCoord\n",
    "import astropy.units as u\n",
    "from astropy.io import fits\n",
    "import numpy as np\n",
    "from astropy.wcs import WCS\n",
    "from scipy.ndimage import gaussian_filter\n",
    "from scipy.interpolate import interp1d\n",
    "import time\n",
    "import copy\n",
    "\n",
    "from minot.ClusterTools import map_tools\n",
    "import pitszi"
   ]
  },
  {
   "cell_type": "markdown",
   "id": "a9eb6cba",
   "metadata": {},
   "source": [
    "# Parameters"
   ]
  },
  {
   "cell_type": "code",
   "execution_count": 2,
   "id": "122dadb6",
   "metadata": {},
   "outputs": [],
   "source": [
    "output_dir = '/Users/adam/Desktop/pitszi/'"
   ]
  },
  {
   "cell_type": "code",
   "execution_count": 3,
   "id": "eaeb48c4",
   "metadata": {},
   "outputs": [],
   "source": [
    "#----- Physical model parameters\n",
    "redshift = 0.5\n",
    "M500 = 1e15*u.Msun\n",
    "RA, Dec   = 30*u.deg, 55*u.deg\n",
    "dRA, dDec = 80*u.arcsec, -25*u.arcsec\n",
    "axis_q1, axis_q2 = 0.7, 0.7\n",
    "euler_1, euler_2, euler_3 = 0*u.deg, 90*u.deg, 35*u.deg\n",
    "\n",
    "fluct_norm = 0.5\n",
    "fluct_slope = -11./3\n",
    "fluct_linj = 800*u.kpc\n",
    "fluct_seed = int(np.random.uniform(0,10000000)) #141416"
   ]
  },
  {
   "cell_type": "code",
   "execution_count": 4,
   "id": "f9c4dfc7",
   "metadata": {},
   "outputs": [],
   "source": [
    "#----- Instrumental parameters\n",
    "# Beam smoothing\n",
    "beam_FWHM = 18*u.arcsec\n",
    "\n",
    "# Transfer function\n",
    "karcsec = np.linspace(0, 1/beam_FWHM.to_value('arcsec')*10, 1000)*u.arcsec**-1\n",
    "kfov = 1/(7*60)\n",
    "TF = {'k':karcsec, 'TF':1-np.exp(-karcsec.to_value('arcsec-1')/kfov)}\n",
    "\n",
    "# Mask\n",
    "mask_Ntheta500 = 1\n",
    "\n",
    "# Noise\n",
    "noise_k = lambda k_arcsec: (2e-9 + 2e-9 * (k_arcsec*60)**-1)\n",
    "noise_r = lambda r_arcsec: (1 + np.exp((r_arcsec-200)/80))\n",
    "noise_seed = 123141 #None"
   ]
  },
  {
   "cell_type": "code",
   "execution_count": 5,
   "id": "27d91af9",
   "metadata": {},
   "outputs": [],
   "source": [
    "#----- Analysis parameters\n",
    "# Image sampling\n",
    "los_size = 1*u.Mpc\n",
    "los_reso = 100*u.kpc\n",
    "\n",
    "# Pk measurement\n",
    "Nbins_pk = 10\n",
    "scale_bins = 'log'\n",
    "kmin_pk = 1/(60*5)*u.arcsec**-1\n",
    "kmax_pk = 1/(beam_FWHM.to('arcsec'))\n",
    "\n",
    "# weight definition\n",
    "method_w8_radial  = True\n",
    "method_w8_smooth  = 20*u.arcsec\n",
    "method_w8_beam    = True\n",
    "method_w8_TF      = False\n",
    "\n",
    "# methodology\n",
    "method_data_deconv = False\n",
    "method_use_covmat  = False\n",
    "method_parallel    = False\n",
    "\n",
    "method_setup_overwrite = True\n",
    "\n",
    "# MCMC\n",
    "nwalkers = 20\n",
    "nsteps = 500\n",
    "burnin = 200\n",
    "mcmc_reset = True\n",
    "mcmc_run = True\n",
    "mcmc_Nresamp = 100"
   ]
  },
  {
   "cell_type": "markdown",
   "id": "cbbb4ac6",
   "metadata": {},
   "source": [
    "# Generate mock data"
   ]
  },
  {
   "cell_type": "code",
   "execution_count": 6,
   "id": "cee91b68",
   "metadata": {},
   "outputs": [
    {
     "name": "stdout",
     "output_type": "stream",
     "text": [
      "=====================================================\n",
      "===== Information relative to the grid sampling =====\n",
      "=====================================================\n",
      "   Grid size : 73 , 49 , 11\n",
      "   Pixel size :      31.4     kpc ;     5.0      arcsec\n",
      "   Fov size :  [   2295.2   ,   1540.6   ] kpc ; [   6.083    ,   4.083    ] arcmin\n",
      "   L.o.S. resolution :        100.0     kpc\n",
      "   Map center :   <SkyCoord (ICRS): (ra, dec) in deg\n",
      "    (30., 55.)>\n",
      "   k min/max projected :       0.002740  /  0.098630   1/arcsec\n",
      "   k min/max projected :       0.000436  /  0.015685   1/kpc\n",
      "   k min/max L.o.S. (eq.) :    0.005717  /  0.028583   1/arcsec\n",
      "   k min/max L.o.S. :          0.000909  /  0.004545   1/kpc\n",
      "   k max Nyquist :             0.028583   1/arcsec\n",
      "   k max Nyquist :             0.004545   1/kpc\n",
      "=====================================================\n"
     ]
    }
   ],
   "source": [
    "#===== Generate a model for the cluster and its fluctuations\n",
    "mock = pitszi.Model(RA=RA+dRA, Dec=Dec+dDec, redshift=redshift, M500=M500, silent=True, output_dir=output_dir)\n",
    "mock.set_pressure_profile_universal_param('A10MD')\n",
    "mock.model_pressure_fluctuation = {'name': 'CutoffPowerLaw',\n",
    "                                   'Norm': fluct_norm, \n",
    "                                   'slope': fluct_slope,\n",
    "                                   'Linj': fluct_linj,\n",
    "                                   'Ldis': 1*u.kpc}\n",
    "mock.triaxiality = {'min_to_maj_axis_ratio':axis_q1, 'int_to_maj_axis_ratio':axis_q2,\n",
    "                    'euler_angle1':euler_1, 'euler_angle2':euler_2, 'euler_angle3':euler_3}\n",
    "\n",
    "mock.map_center = SkyCoord(RA, Dec, frame=\"icrs\")\n",
    "mock.map_fov    = [6, 4]*u.arcmin\n",
    "mock.map_reso  = 5*u.arcsec\n",
    "mock.los_reso  = los_reso\n",
    "mock.los_size  = los_size\n",
    "mock.R_truncation = mock.R500*10\n",
    "\n",
    "mock.give_sampling_information()"
   ]
  },
  {
   "cell_type": "code",
   "execution_count": null,
   "id": "39b8f1ed",
   "metadata": {},
   "outputs": [
    {
     "name": "stdout",
     "output_type": "stream",
     "text": [
      "============================================================\n",
      "                        _  _    ___  ____ _                 \n",
      "                  _ __ (_)| |_ / __||_  /(_)                \n",
      "                 | '_ \\| ||  _|\\__ \\ / / | |                \n",
      "                 | .__/|_| \\__||___//___||_|                \n",
      "                 |_|                                        \n",
      "============================================================\n",
      "   Probing ICM Turbulence from Sunyaev-Zel'dovich Imaging   \n",
      "------------------------------------------------------------\n",
      "                           Data                             \n",
      "------------------------------------------------------------\n"
     ]
    },
    {
     "name": "stderr",
     "output_type": "stream",
     "text": [
      "/Users/adam/Project/anaconda3/envs/ctaphys/lib/python3.7/site-packages/ipykernel_launcher.py:14: RuntimeWarning: divide by zero encountered in reciprocal\n",
      "  \n"
     ]
    }
   ],
   "source": [
    "#===== Initiate a data object and fake data\n",
    "#----- Init with the mock\n",
    "data = pitszi.Data(mock.get_sz_map(), mock.get_map_header())\n",
    "data.output_dir = output_dir\n",
    "\n",
    "#----- set basic IRFs\n",
    "data.psf_fwhm              = beam_FWHM\n",
    "data.transfer_function     = TF\n",
    "data.noise_model = [noise_r, noise_k]\n",
    "\n",
    "#----- Define the mask\n",
    "ramap, decmap = map_tools.get_radec_map(data.header)\n",
    "dist_map = map_tools.greatcircle(ramap, decmap, \n",
    "                                 (RA+dRA).to_value('deg'), (Dec+dDec).to_value('deg'))\n",
    "mask = dist_map * 0 + 1\n",
    "mask[dist_map > mask_Ntheta500*mock.theta500.to_value('deg')] = 0 \n",
    "data.mask = mask\n",
    "\n",
    "#----- Define the noise properties\n",
    "data.noise_mc = data.get_noise_monte_carlo_from_model(Nmc=1000, center=mock.map_center)\n",
    "data.noise_rms = data.get_noise_rms_from_model(Nmc=1000, center=mock.map_center)\n",
    "if os.path.exists(data.output_dir+'/data_image_noise_covariance_matrix.pkl'):\n",
    "    data.load_noise_covariance(data.output_dir+'/data_image_noise_covariance_matrix.pkl')\n",
    "else:\n",
    "    data.noise_covmat = data.get_noise_covariance_from_model(Nmc=1000)\n",
    "    data.save_noise_covariance(data.output_dir+'/data_image_noise_covariance_matrix.pkl')\n",
    "\n",
    "#----- Mock the data\n",
    "img = data.set_image_to_mock(mock, \n",
    "                             model_seed=fluct_seed, model_no_fluctuations=False, \n",
    "                             noise_origin='model', noise_center=mock.map_center, noise_seed=noise_seed)"
   ]
  },
  {
   "cell_type": "code",
   "execution_count": null,
   "id": "0a7e4ef3",
   "metadata": {},
   "outputs": [],
   "source": [
    "visu_smooth = 10\n",
    "\n",
    "#===== Show the data\n",
    "plt.rcParams.update({'font.size': 10})\n",
    "fig = plt.figure(0, figsize=(18, 12))\n",
    "\n",
    "ax = plt.subplot(2, 3, 1, projection=WCS(data.header))\n",
    "plt.imshow(mock.get_sz_map(seed=fluct_seed, no_fluctuations=False)*1e5, cmap='Spectral_r', vmin=0, vmax=10)\n",
    "cb = plt.colorbar()\n",
    "plt.title('Model y-Compton')\n",
    "plt.xlabel('R.A. (deg)')\n",
    "plt.ylabel('Dec. (deg)')\n",
    "\n",
    "ax = plt.subplot(2,3, 2, projection=WCS(data.header))\n",
    "plt.imshow(data.image*1e5, cmap='Spectral_r',vmin=-6, vmax=6)\n",
    "cb = plt.colorbar()\n",
    "plt.title('Mock data y-Compton')\n",
    "plt.xlabel('R.A. (deg)')\n",
    "plt.ylabel('Dec. (deg)')\n",
    "\n",
    "ax = plt.subplot(2,3, 3, projection=WCS(data.header))\n",
    "plt.imshow(gaussian_filter(data.image, sigma=visu_smooth/2.35/data.header['CDELT2']/3600)*1e5, cmap='Spectral_r', vmin=-6, vmax=6)\n",
    "cb = plt.colorbar()\n",
    "rms = np.std(gaussian_filter(data.noise_mc, sigma=np.array([0,1,1])*visu_smooth/2.35/data.header['CDELT2']/3600), axis=0)\n",
    "plt.contour(gaussian_filter(data.image, sigma=visu_smooth/2.35/data.header['CDELT2']/3600)/rms, levels=[3,6,9,12,15,18,21], colors='k')\n",
    "plt.title('Mock data y-Compton ('+str(int(visu_smooth))+'\" smoothing)')\n",
    "plt.xlabel('R.A. (deg)')\n",
    "plt.ylabel('Dec. (deg)')\n",
    "\n",
    "ax = plt.subplot(2,3, 4, projection=WCS(data.header))\n",
    "plt.imshow(data.mask, cmap='Spectral_r', vmin=0, vmax=1)\n",
    "cb = plt.colorbar()\n",
    "plt.title('Mask')\n",
    "plt.xlabel('R.A. (deg)')\n",
    "plt.ylabel('Dec. (deg)')\n",
    "\n",
    "ax = plt.subplot(2,3, 5, projection=WCS(data.header))\n",
    "plt.imshow(data.noise_mc[0]*1e5, cmap='Spectral_r', vmin=-2, vmax=2)\n",
    "cb = plt.colorbar()\n",
    "plt.title('Noise realization')\n",
    "plt.xlabel('R.A. (deg)')\n",
    "plt.ylabel('Dec. (deg)')\n",
    "\n",
    "ax = plt.subplot(2,3, 6, projection=WCS(data.header))\n",
    "plt.imshow(gaussian_filter(data.noise_mc[0], sigma=visu_smooth/2.35/data.header['CDELT2']/3600)*1e5, cmap='Spectral_r', vmin=-2, vmax=2)\n",
    "cb = plt.colorbar()\n",
    "rms = np.std(gaussian_filter(data.noise_mc, sigma=np.array([0,1,1])*visu_smooth/2.35/data.header['CDELT2']/3600), axis=0)\n",
    "plt.contour(gaussian_filter(data.noise_mc[0], sigma=visu_smooth/2.35/data.header['CDELT2']/3600)/rms, levels=[-3,3], colors='k')\n",
    "plt.title('Noise realization ('+str(int(visu_smooth))+'\" smoothing)')\n",
    "plt.xlabel('R.A. (deg)')\n",
    "plt.ylabel('Dec. (deg)')"
   ]
  },
  {
   "cell_type": "markdown",
   "id": "bdea145c",
   "metadata": {},
   "source": [
    "# Build framework to constrain the data"
   ]
  },
  {
   "cell_type": "code",
   "execution_count": null,
   "id": "fba9ee48",
   "metadata": {},
   "outputs": [],
   "source": [
    "model = copy.deepcopy(mock)"
   ]
  },
  {
   "cell_type": "code",
   "execution_count": null,
   "id": "c762fc58",
   "metadata": {},
   "outputs": [],
   "source": [
    "inference = pitszi.Inference(data, model, output_dir=output_dir)\n",
    "\n",
    "inference.kbin_min   = kmin_pk\n",
    "inference.kbin_max   = kmax_pk\n",
    "inference.kbin_Nbin  = Nbins_pk\n",
    "inference.kbin_scale = scale_bins\n",
    "\n",
    "inference.mcmc_nwalkers = nwalkers\n",
    "inference.mcmc_nsteps   = nsteps\n",
    "inference.mcmc_burnin   = burnin\n",
    "inference.mcmc_reset    = mcmc_reset\n",
    "inference.mcmc_run      = mcmc_run\n",
    "inference.mcmc_Nresamp  = mcmc_Nresamp\n",
    "\n",
    "inference.method_use_covmat  = method_use_covmat\n",
    "inference.method_parallel    = method_parallel\n",
    "inference.method_data_deconv = method_data_deconv\n",
    "inference.set_method_w8(apply_radial_model=method_w8_radial, \n",
    "                        conv_radial_model_beam=method_w8_beam, conv_radial_model_TF=method_w8_TF, \n",
    "                        remove_GNFW_core=True, \n",
    "                        smooth_FWHM=method_w8_smooth)\n",
    "\n",
    "if os.path.exists(inference.output_dir+'/inference_parameters.pkl') and method_setup_overwrite == False:\n",
    "    inference.load_inference(inference.output_dir+'/inference_parameters.pkl')\n",
    "else:\n",
    "    inference.pk_setup()\n",
    "    inference.save_inference()"
   ]
  },
  {
   "cell_type": "markdown",
   "id": "091d3335",
   "metadata": {},
   "source": [
    "### Check that inference can extract data, model and noise properties to be passed to fitting tools"
   ]
  },
  {
   "cell_type": "markdown",
   "id": "50f0ed16",
   "metadata": {},
   "source": [
    "##### Case of the radial model"
   ]
  },
  {
   "cell_type": "code",
   "execution_count": null,
   "id": "50fce701",
   "metadata": {},
   "outputs": [],
   "source": [
    "#inference.nuisance_ZL = 0\n",
    "#inference.model.triaxiality = {'min_to_maj_axis_ratio':axis_q1, 'int_to_maj_axis_ratio':axis_q2,\n",
    "#                               'euler_angle1':euler_1, 'euler_angle2':euler_2, 'euler_angle3':euler_3}\n",
    "#inference.model.model_pressure_profile['P_0'] *= 1\n",
    "\n",
    "resid = (inference.get_radial_data() - inference.get_radial_model()) / inference.get_radial_noise_statistics()[0]\n",
    "\n",
    "plt.rcParams.update({'font.size': 10})\n",
    "fig = plt.figure(0, figsize=(18, 4))\n",
    "\n",
    "ax = plt.subplot(1, 3, 1, projection=WCS(data.header))\n",
    "plt.imshow(inference.get_radial_data())\n",
    "plt.colorbar()\n",
    "plt.xlabel('R.A. (deg)')\n",
    "plt.ylabel('Dec. (deg)')\n",
    "\n",
    "ax = plt.subplot(1, 3, 2, projection=WCS(data.header))\n",
    "plt.imshow(inference.get_radial_model())\n",
    "plt.colorbar()\n",
    "plt.xlabel('R.A. (deg)')\n",
    "plt.ylabel('Dec. (deg)')\n",
    "\n",
    "ax = plt.subplot(1, 3, 3, projection=WCS(data.header))\n",
    "plt.imshow(resid*inference.data.mask)\n",
    "plt.colorbar()\n",
    "plt.xlabel('R.A. (deg)')\n",
    "plt.ylabel('Dec. (deg)')"
   ]
  },
  {
   "cell_type": "markdown",
   "id": "6b4c0711",
   "metadata": {},
   "source": [
    "##### Case of Pk"
   ]
  },
  {
   "cell_type": "code",
   "execution_count": null,
   "id": "ce6480f0",
   "metadata": {},
   "outputs": [],
   "source": [
    "unit = 'kpc'\n",
    "if unit == 'arcsec':\n",
    "    phys=False\n",
    "if unit == 'kpc':\n",
    "    phys=True"
   ]
  },
  {
   "cell_type": "code",
   "execution_count": null,
   "id": "26a07b9f",
   "metadata": {},
   "outputs": [],
   "source": [
    "k2d, pk2d_data = inference.get_pk2d_data(physical=phys)\n",
    "k2d, pk2d_noise, pk2d_noisecovmat = inference.get_pk2d_noise_statistics(physical=phys)\n",
    "k2d, pk2d_modref, pk2d_modcovmat = inference.get_pk2d_model_statistics(physical=phys, Nmc=100)"
   ]
  },
  {
   "cell_type": "code",
   "execution_count": null,
   "id": "5802d023",
   "metadata": {},
   "outputs": [],
   "source": [
    "k2d, pk2d_test_modbrute  = inference.get_pk2d_model_brute(physical=phys, seed=1)\n",
    "k2d, pk2d_test_moddeproj = inference.get_pk2d_model_proj(physical=phys)"
   ]
  },
  {
   "cell_type": "code",
   "execution_count": null,
   "id": "f27ff278",
   "metadata": {},
   "outputs": [],
   "source": [
    "plt.rcParams.update({'font.size': 14})\n",
    "fig = plt.figure(0, figsize=(9, 6))\n",
    "\n",
    "plt.errorbar(k2d.to_value(unit+'-1'), pk2d_data.to_value(unit+'2'), \n",
    "             np.diag(pk2d_noisecovmat.to_value(unit+'4'))**0.5, marker='o', ls='', color='k', label='Data')\n",
    "plt.plot(k2d.to_value(unit+'-1'), pk2d_noise.to_value(unit+'2'), color='red', lw=2, label='Noise mean')\n",
    "plt.plot(k2d.to_value(unit+'-1'), pk2d_modref.to_value(unit+'2'), color='blue', lw=2, label='Processed model mean')\n",
    "plt.plot(k2d.to_value(unit+'-1'), pk2d_modref.to_value(unit+'2') + np.diag(pk2d_modcovmat.to_value(unit+'4'))**0.5, color='blue', ls='--')\n",
    "plt.plot(k2d.to_value(unit+'-1'), pk2d_modref.to_value(unit+'2') - np.diag(pk2d_modcovmat.to_value(unit+'4'))**0.5, color='blue', ls='--')\n",
    "plt.plot(k2d.to_value(unit+'-1'), pk2d_test_modbrute.to_value(unit+'2'), color='cyan', label='Brute force model')\n",
    "plt.plot(k2d.to_value(unit+'-1'), pk2d_test_moddeproj.to_value(unit+'2'), color='orange', label='Deprojected model')\n",
    "plt.plot(k2d.to_value(unit+'-1'), (pk2d_test_moddeproj-pk2d_noise).to_value(unit+'2'), color='pink', lw=3, label='Deprojected model - mean noise')\n",
    "plt.xscale('log')\n",
    "plt.yscale('log')\n",
    "plt.ylim(np.amax(pk2d_data.to_value(unit+'2'))*5e-3, np.amax(pk2d_data.to_value(unit+'2'))*1.5)\n",
    "plt.ylim(1e-9,1e-5)\n",
    "plt.xlabel('k ('+unit+'$^{-1}$)')\n",
    "plt.ylabel(r'$P_k$ ('+unit+'$^{2}$)')\n",
    "plt.legend(fontsize=12)"
   ]
  },
  {
   "cell_type": "markdown",
   "id": "fcb98799",
   "metadata": {},
   "source": [
    "##### Computing time"
   ]
  },
  {
   "cell_type": "code",
   "execution_count": null,
   "id": "bed22c69",
   "metadata": {},
   "outputs": [],
   "source": [
    "start = time.time()\n",
    "inference.get_radial_model()\n",
    "end = time.time()\n",
    "print('Computing time, radial model (s):', end - start)\n",
    "\n",
    "start = time.time()\n",
    "inference.get_pk2d_model_brute()\n",
    "end = time.time()\n",
    "print('Computing time, fluctuation brute (s):', end - start)\n",
    "\n",
    "start = time.time()\n",
    "inference.get_pk2d_model_proj()\n",
    "end = time.time()\n",
    "print('Computing time, fluctuation projection (s):', end - start)"
   ]
  },
  {
   "cell_type": "raw",
   "id": "c0dffd71",
   "metadata": {},
   "source": [
    "# 5 arcsec pixels, 5 arcmin FoV, 1 Mpc width, 100 kpc reso\n",
    "Computing time, radial model (s): 0.03484702110290527\n",
    "Computing time, fluctuation brute (s): 0.09353804588317871\n",
    "Computing time, fluctuation projection (s): 0.10923385620117188\n",
    "\n",
    "# 2.5 arcsec pixels, 5 arcmin FoV, 1 Mpc width, 100 kpc reso \n",
    "Computing time, radial model (s): 0.05294990539550781\n",
    "Computing time, fluctuation brute (s): 0.19098305702209473\n",
    "Computing time, fluctuation projection (s): 1.7208399772644043\n",
    "\n",
    "# 5 arcsec pixels, 5 arcmin FoV, 3 Mpc width, 30 kpc reso \n",
    "Computing time, radial model (s): 0.08080410957336426\n",
    "Computing time, fluctuation brute (s): 0.35853075981140137\n",
    "Computing time, fluctuation projection (s): 0.11266016960144043"
   ]
  },
  {
   "cell_type": "markdown",
   "id": "bff5d9cc",
   "metadata": {},
   "source": [
    "# MCMC Fitting for the profile"
   ]
  },
  {
   "cell_type": "code",
   "execution_count": null,
   "id": "bcc342eb",
   "metadata": {},
   "outputs": [],
   "source": [
    "fitpar_prof = {\n",
    "    'P_0': {'guess':[0.02, 0.001], 'unit': u.keV*u.cm**-3, 'limit':[0, np.inf]},\n",
    "    'r_p': {'guess':[1000, 1000], 'unit': u.kpc, 'limit':[0, np.inf]},\n",
    "    #'a': {'guess':[1, 0.5], 'unit': None, 'limit':[0, 10]},\n",
    "    #'b': {'guess':[5, 0.5], 'unit': None, 'limit':[0, 10]},\n",
    "    #'c': {'guess':[0.5, 0.5], 'unit': None, 'limit':[-1, 3]},\n",
    "    #'M500':{'guess':[10,1], 'unit':1e14*u.Msun, 'limit':[1, 100], 'P_ref':'A10MD'},\n",
    "    #'min_to_maj_axis_ratio':{'guess':[1,0.1], 'unit':None, 'limit':[0,1]}, \n",
    "    #'angle':{'guess':[0,90], 'unit':u.deg, 'limit':[-90,90]},\n",
    "    #'RA': {'guess':[RA.to_value('arcmin'), 1], 'unit': u.arcmin, 'limit':[RA.to_value('arcmin')-1, RA.to_value('arcmin')+1]},\n",
    "    #'Dec': {'guess':[Dec.to_value('arcmin'), 1], 'unit': u.arcmin, 'limit':[Dec.to_value('arcmin')-1, Dec.to_value('arcmin')+1]},\n",
    "    'ZL':{'guess':[0,1e-5],'unit':None},\n",
    "              }"
   ]
  },
  {
   "cell_type": "code",
   "execution_count": null,
   "id": "fac6feed",
   "metadata": {},
   "outputs": [],
   "source": [
    "#parlist, sampler = inference.run_mcmc_profile(fitpar_prof, show_fit_result=True)"
   ]
  },
  {
   "cell_type": "markdown",
   "id": "2d713cd0",
   "metadata": {},
   "source": [
    "# MCMC Fitting for the spectrum"
   ]
  },
  {
   "cell_type": "code",
   "execution_count": null,
   "id": "011f80b2",
   "metadata": {},
   "outputs": [],
   "source": [
    "fitpar_pk3d = {\n",
    "    'Norm':{'guess':[0.5, 0.5],'unit': None,'limit':[0, 3]}, #'prior':[0.5, 0.2],},\n",
    "    #'slope':{'guess':[-11/3, 0.5],'unit': None,'limit':[-11/3-2, -11/3+2]}, #, #'prior':[-11/3, 0.5],},\n",
    "    'Linj':{'guess':[800, 500],'unit': u.kpc,'limit':[100, 3000]}, #, 'prior':[600, 300],      \n",
    "    'Anoise':{'guess':[1, 0.2],'unit': None,'limit':[0, 2]},\n",
    "              }"
   ]
  },
  {
   "cell_type": "code",
   "execution_count": null,
   "id": "26b3462d",
   "metadata": {},
   "outputs": [],
   "source": [
    "#parlist, sampler = inference.run_mcmc_fluctuation(fitpar_pk3d, kind='projection', show_fit_result=True)\n",
    "#parlist, sampler = inference.run_mcmc_fluctuation(fitpar_pk3d, kind='brute', show_fit_result=True)"
   ]
  },
  {
   "cell_type": "markdown",
   "id": "22bb7e03",
   "metadata": {},
   "source": [
    "# Curvefit fit"
   ]
  },
  {
   "cell_type": "code",
   "execution_count": null,
   "id": "148537db",
   "metadata": {},
   "outputs": [],
   "source": [
    "#inference.method_use_covmat = False\n",
    "#plist, popt, pcov = inference.run_curvefit_profile(fitpar_prof, show_fit_result=True, set_bestfit=True)"
   ]
  },
  {
   "cell_type": "code",
   "execution_count": null,
   "id": "30e8ae18",
   "metadata": {},
   "outputs": [],
   "source": [
    "inference.method_use_covmat = False\n",
    "plist, popt, pcov = inference.run_curvefit_fluctuation(fitpar_pk3d, show_fit_result=True)"
   ]
  },
  {
   "cell_type": "code",
   "execution_count": null,
   "id": "37ebeb3a",
   "metadata": {},
   "outputs": [],
   "source": []
  }
 ],
 "metadata": {
  "kernelspec": {
   "display_name": "Python 3",
   "language": "python",
   "name": "python3"
  },
  "language_info": {
   "codemirror_mode": {
    "name": "ipython",
    "version": 3
   },
   "file_extension": ".py",
   "mimetype": "text/x-python",
   "name": "python",
   "nbconvert_exporter": "python",
   "pygments_lexer": "ipython3",
   "version": "3.7.12"
  }
 },
 "nbformat": 4,
 "nbformat_minor": 5
}
