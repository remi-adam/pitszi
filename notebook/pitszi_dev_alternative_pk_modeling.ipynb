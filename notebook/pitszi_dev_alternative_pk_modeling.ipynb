{
 "cells": [
  {
   "cell_type": "raw",
   "id": "b466db96-5026-444f-8410-e20fa2229745",
   "metadata": {},
   "source": [
    "This notebook aims at testing alternative models for the power spectrum. \n",
    "This can be, e.g., other functional forms, or a 'User' model, i.e. a binned model that is interpolated."
   ]
  },
  {
   "cell_type": "code",
   "execution_count": 1,
   "id": "7d5db60f-d28c-4ce1-8fb6-5632554ab61b",
   "metadata": {},
   "outputs": [],
   "source": [
    "import numpy as np\n",
    "import matplotlib.pyplot as plt\n",
    "import astropy.units as u\n",
    "\n",
    "import pitszi"
   ]
  },
  {
   "cell_type": "code",
   "execution_count": 2,
   "id": "21e4f24e-44a4-4090-9bd3-dfe97d3b8f29",
   "metadata": {},
   "outputs": [
    {
     "name": "stdout",
     "output_type": "stream",
     "text": [
      "============================================================\n",
      "                        _  _    ___  ____ _                 \n",
      "                  _ __ (_)| |_ / __||_  /(_)                \n",
      "                 | '_ \\| ||  _|\\__ \\ / / | |                \n",
      "                 | .__/|_| \\__||___//___||_|                \n",
      "                 |_|                                        \n",
      "============================================================\n",
      "   Probing ICM Turbulence from Sunyaev-Zel'dovich Imaging   \n",
      "------------------------------------------------------------\n",
      "                           Model                            \n",
      "------------------------------------------------------------\n",
      "Setting gNFW Planck coll. (2013) UPP.\n",
      "Setting SVM Ghirardini (2019) UPP.\n"
     ]
    }
   ],
   "source": [
    "C = pitszi.Model()"
   ]
  },
  {
   "cell_type": "code",
   "execution_count": 6,
   "id": "031dba5b-becb-45ad-a7fd-ddf5e51628ae",
   "metadata": {},
   "outputs": [
    {
     "name": "stdout",
     "output_type": "stream",
     "text": [
      "Setting model_pressure_fluctuation value\n",
      "Fixing: R500 if involved\n"
     ]
    },
    {
     "ename": "ValueError",
     "evalue": "No other model implemented yet",
     "output_type": "error",
     "traceback": [
      "\u001b[0;31m---------------------------------------------------------------------------\u001b[0m",
      "\u001b[0;31mValueError\u001b[0m                                Traceback (most recent call last)",
      "Cell \u001b[0;32mIn[6], line 11\u001b[0m\n\u001b[1;32m      1\u001b[0m C\u001b[38;5;241m.\u001b[39mmodel_pressure_fluctuation \u001b[38;5;241m=\u001b[39m {\u001b[38;5;124m'\u001b[39m\u001b[38;5;124mname\u001b[39m\u001b[38;5;124m'\u001b[39m: \u001b[38;5;124m'\u001b[39m\u001b[38;5;124mModifiedCutoffPowerLaw\u001b[39m\u001b[38;5;124m'\u001b[39m,\n\u001b[1;32m      2\u001b[0m                                 \u001b[38;5;124m'\u001b[39m\u001b[38;5;124mstatistics\u001b[39m\u001b[38;5;124m'\u001b[39m: \u001b[38;5;124m'\u001b[39m\u001b[38;5;124mgaussian\u001b[39m\u001b[38;5;124m'\u001b[39m,\n\u001b[1;32m      3\u001b[0m                                 \u001b[38;5;124m'\u001b[39m\u001b[38;5;124mNorm\u001b[39m\u001b[38;5;124m'\u001b[39m: \u001b[38;5;241m0.25\u001b[39m,\n\u001b[0;32m   (...)\u001b[0m\n\u001b[1;32m      8\u001b[0m                                 \u001b[38;5;124m'\u001b[39m\u001b[38;5;124mNdis\u001b[39m\u001b[38;5;124m'\u001b[39m: \u001b[38;5;241m1\u001b[39m,\n\u001b[1;32m      9\u001b[0m                                }\n\u001b[0;32m---> 11\u001b[0m k,pk \u001b[38;5;241m=\u001b[39m \u001b[43mC\u001b[49m\u001b[38;5;241;43m.\u001b[39;49m\u001b[43mget_pressure_fluctuation_spectrum\u001b[49m\u001b[43m(\u001b[49m\u001b[43m)\u001b[49m\n\u001b[1;32m     12\u001b[0m plt\u001b[38;5;241m.\u001b[39mloglog(k, pk)\n",
      "File \u001b[0;32m~/Project/anaconda3/envs/main/lib/python3.10/site-packages/pitszi/model_mock.py:650\u001b[0m, in \u001b[0;36mModelMock.get_pressure_fluctuation_spectrum\u001b[0;34m(self, kvec, kmin_norm, kmax_norm, Npt_norm)\u001b[0m\n\u001b[1;32m    648\u001b[0m     P3d_k \u001b[38;5;241m=\u001b[39m A\u001b[38;5;241m*\u001b[39m\u001b[38;5;241m*\u001b[39m\u001b[38;5;241m2\u001b[39m \u001b[38;5;241m*\u001b[39m pl\u001b[38;5;241m*\u001b[39mcut_high\u001b[38;5;241m*\u001b[39mcut_low \u001b[38;5;241m/\u001b[39m Normalization \u001b[38;5;66;03m# adu * u1 / (u1*k**3) = kpc^3\u001b[39;00m\n\u001b[1;32m    649\u001b[0m \u001b[38;5;28;01melse\u001b[39;00m:\n\u001b[0;32m--> 650\u001b[0m     \u001b[38;5;28;01mraise\u001b[39;00m \u001b[38;5;167;01mValueError\u001b[39;00m(\u001b[38;5;124m\"\u001b[39m\u001b[38;5;124mNo other model implemented yet\u001b[39m\u001b[38;5;124m\"\u001b[39m)\n\u001b[1;32m    652\u001b[0m \u001b[38;5;28;01mreturn\u001b[39;00m kvec, P3d_k\u001b[38;5;241m*\u001b[39mu\u001b[38;5;241m.\u001b[39mkpc\u001b[38;5;241m*\u001b[39m\u001b[38;5;241m*\u001b[39m\u001b[38;5;241m3\u001b[39m\n",
      "\u001b[0;31mValueError\u001b[0m: No other model implemented yet"
     ]
    }
   ],
   "source": [
    "C.model_pressure_fluctuation = {'name': 'ModifiedCutoffPowerLaw',\n",
    "                                'statistics': 'gaussian',\n",
    "                                'Norm': 0.25,\n",
    "                                'slope': -3.6666666666666665,\n",
    "                                'Linj': 100*u.kpc,\n",
    "                                'Ldis': 1*u.kpc,\n",
    "                                'Ninj': 1,\n",
    "                                'Ndis': 1,\n",
    "                               }\n",
    "\n",
    "k,pk = C.get_pressure_fluctuation_spectrum()\n",
    "plt.loglog(k, pk)"
   ]
  },
  {
   "cell_type": "code",
   "execution_count": 5,
   "id": "00605645-8223-4cb3-a8c7-8897c5473217",
   "metadata": {},
   "outputs": [
    {
     "ename": "ValueError",
     "evalue": "No other model implemented yet",
     "output_type": "error",
     "traceback": [
      "\u001b[0;31m---------------------------------------------------------------------------\u001b[0m",
      "\u001b[0;31mValueError\u001b[0m                                Traceback (most recent call last)",
      "Cell \u001b[0;32mIn[5], line 1\u001b[0m\n\u001b[0;32m----> 1\u001b[0m k,pk \u001b[38;5;241m=\u001b[39m \u001b[43mC\u001b[49m\u001b[38;5;241;43m.\u001b[39;49m\u001b[43mget_pressure_fluctuation_spectrum\u001b[49m\u001b[43m(\u001b[49m\u001b[43m)\u001b[49m\n\u001b[1;32m      3\u001b[0m plt\u001b[38;5;241m.\u001b[39mloglog(k, pk)\n",
      "File \u001b[0;32m~/Project/anaconda3/envs/main/lib/python3.10/site-packages/pitszi/model_mock.py:650\u001b[0m, in \u001b[0;36mModelMock.get_pressure_fluctuation_spectrum\u001b[0;34m(self, kvec, kmin_norm, kmax_norm, Npt_norm)\u001b[0m\n\u001b[1;32m    648\u001b[0m     P3d_k \u001b[38;5;241m=\u001b[39m A\u001b[38;5;241m*\u001b[39m\u001b[38;5;241m*\u001b[39m\u001b[38;5;241m2\u001b[39m \u001b[38;5;241m*\u001b[39m pl\u001b[38;5;241m*\u001b[39mcut_high\u001b[38;5;241m*\u001b[39mcut_low \u001b[38;5;241m/\u001b[39m Normalization \u001b[38;5;66;03m# adu * u1 / (u1*k**3) = kpc^3\u001b[39;00m\n\u001b[1;32m    649\u001b[0m \u001b[38;5;28;01melse\u001b[39;00m:\n\u001b[0;32m--> 650\u001b[0m     \u001b[38;5;28;01mraise\u001b[39;00m \u001b[38;5;167;01mValueError\u001b[39;00m(\u001b[38;5;124m\"\u001b[39m\u001b[38;5;124mNo other model implemented yet\u001b[39m\u001b[38;5;124m\"\u001b[39m)\n\u001b[1;32m    652\u001b[0m \u001b[38;5;28;01mreturn\u001b[39;00m kvec, P3d_k\u001b[38;5;241m*\u001b[39mu\u001b[38;5;241m.\u001b[39mkpc\u001b[38;5;241m*\u001b[39m\u001b[38;5;241m*\u001b[39m\u001b[38;5;241m3\u001b[39m\n",
      "\u001b[0;31mValueError\u001b[0m: No other model implemented yet"
     ]
    }
   ],
   "source": [
    "k = np.array([0,1,2,3])*u.kpc**-1\n",
    "pk = np.array([0,1,1,0])*u.kpc**-1\n",
    "\n",
    "C.model_pressure_fluctuation = {'name': 'ModifiedCutoffPowerLaw',\n",
    "                                'statistics': 'gaussian',\n",
    "                                'k': 0.25,\n",
    "                                'pk': -3.6666666666666665}\n",
    "\n",
    "k,pk = C.get_pressure_fluctuation_spectrum()\n",
    "plt.loglog(k, pk)"
   ]
  },
  {
   "cell_type": "code",
   "execution_count": null,
   "id": "e9a9ac24-ee1c-4d04-89ec-23e28381ab5b",
   "metadata": {},
   "outputs": [],
   "source": []
  }
 ],
 "metadata": {
  "kernelspec": {
   "display_name": "Python 3 (ipykernel)",
   "language": "python",
   "name": "python3"
  },
  "language_info": {
   "codemirror_mode": {
    "name": "ipython",
    "version": 3
   },
   "file_extension": ".py",
   "mimetype": "text/x-python",
   "name": "python",
   "nbconvert_exporter": "python",
   "pygments_lexer": "ipython3",
   "version": "3.10.15"
  }
 },
 "nbformat": 4,
 "nbformat_minor": 5
}
