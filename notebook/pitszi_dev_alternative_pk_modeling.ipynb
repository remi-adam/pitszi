{
 "cells": [
  {
   "cell_type": "raw",
   "id": "b466db96-5026-444f-8410-e20fa2229745",
   "metadata": {},
   "source": [
    "This notebook aims at testing alternative models for the power spectrum. \n",
    "This can be, e.g., other functional forms, or a 'User' model, i.e. a binned model that is interpolated."
   ]
  },
  {
   "cell_type": "code",
   "execution_count": 1,
   "id": "7d5db60f-d28c-4ce1-8fb6-5632554ab61b",
   "metadata": {},
   "outputs": [],
   "source": [
    "import numpy as np\n",
    "import matplotlib.pyplot as plt\n",
    "import astropy.units as u\n",
    "\n",
    "import pitszi"
   ]
  },
  {
   "cell_type": "code",
   "execution_count": null,
   "id": "21e4f24e-44a4-4090-9bd3-dfe97d3b8f29",
   "metadata": {},
   "outputs": [],
   "source": []
  }
 ],
 "metadata": {
  "kernelspec": {
   "display_name": "Python 3 (ipykernel)",
   "language": "python",
   "name": "python3"
  },
  "language_info": {
   "codemirror_mode": {
    "name": "ipython",
    "version": 3
   },
   "file_extension": ".py",
   "mimetype": "text/x-python",
   "name": "python",
   "nbconvert_exporter": "python",
   "pygments_lexer": "ipython3",
   "version": "3.10.15"
  }
 },
 "nbformat": 4,
 "nbformat_minor": 5
}
