{
 "cells": [
  {
   "cell_type": "raw",
   "id": "b466db96-5026-444f-8410-e20fa2229745",
   "metadata": {},
   "source": [
    "This notebook aims at testing alternative models for the power spectrum. \n",
    "This can be, e.g., other functional forms, or a 'User' model, i.e. a binned model that is interpolated."
   ]
  },
  {
   "cell_type": "code",
   "execution_count": 1,
   "id": "7d5db60f-d28c-4ce1-8fb6-5632554ab61b",
   "metadata": {},
   "outputs": [],
   "source": [
    "import numpy as np\n",
    "import matplotlib.pyplot as plt\n",
    "import astropy.units as u\n",
    "\n",
    "import pitszi"
   ]
  },
  {
   "cell_type": "code",
   "execution_count": 2,
   "id": "21e4f24e-44a4-4090-9bd3-dfe97d3b8f29",
   "metadata": {},
   "outputs": [
    {
     "name": "stdout",
     "output_type": "stream",
     "text": [
      "============================================================\n",
      "                        _  _    ___  ____ _                 \n",
      "                  _ __ (_)| |_ / __||_  /(_)                \n",
      "                 | '_ \\| ||  _|\\__ \\ / / | |                \n",
      "                 | .__/|_| \\__||___//___||_|                \n",
      "                 |_|                                        \n",
      "============================================================\n",
      "   Probing ICM Turbulence from Sunyaev-Zel'dovich Imaging   \n",
      "------------------------------------------------------------\n",
      "                           Model                            \n",
      "------------------------------------------------------------\n",
      "Setting gNFW Planck coll. (2013) UPP.\n",
      "Setting SVM Ghirardini (2019) UPP.\n"
     ]
    }
   ],
   "source": [
    "C = pitszi.Model()"
   ]
  },
  {
   "cell_type": "code",
   "execution_count": 6,
   "id": "031dba5b-becb-45ad-a7fd-ddf5e51628ae",
   "metadata": {},
   "outputs": [
    {
     "name": "stdout",
     "output_type": "stream",
     "text": [
      "Setting model_pressure_fluctuation value\n",
      "Fixing: R500 if involved\n"
     ]
    },
    {
     "ename": "ValueError",
     "evalue": "No other model implemented yet",
     "output_type": "error",
     "traceback": [
      "\u001b[0;31m---------------------------------------------------------------------------\u001b[0m",
      "\u001b[0;31mValueError\u001b[0m                                Traceback (most recent call last)",
      "Cell \u001b[0;32mIn[6], line 11\u001b[0m\n\u001b[1;32m      1\u001b[0m C\u001b[38;5;241m.\u001b[39mmodel_pressure_fluctuation \u001b[38;5;241m=\u001b[39m {\u001b[38;5;124m'\u001b[39m\u001b[38;5;124mname\u001b[39m\u001b[38;5;124m'\u001b[39m: \u001b[38;5;124m'\u001b[39m\u001b[38;5;124mModifiedCutoffPowerLaw\u001b[39m\u001b[38;5;124m'\u001b[39m,\n\u001b[1;32m      2\u001b[0m                                 \u001b[38;5;124m'\u001b[39m\u001b[38;5;124mstatistics\u001b[39m\u001b[38;5;124m'\u001b[39m: \u001b[38;5;124m'\u001b[39m\u001b[38;5;124mgaussian\u001b[39m\u001b[38;5;124m'\u001b[39m,\n\u001b[1;32m      3\u001b[0m                                 \u001b[38;5;124m'\u001b[39m\u001b[38;5;124mNorm\u001b[39m\u001b[38;5;124m'\u001b[39m: \u001b[38;5;241m0.25\u001b[39m,\n\u001b[0;32m   (...)\u001b[0m\n\u001b[1;32m      8\u001b[0m                                 \u001b[38;5;124m'\u001b[39m\u001b[38;5;124mNdis\u001b[39m\u001b[38;5;124m'\u001b[39m: \u001b[38;5;241m1\u001b[39m,\n\u001b[1;32m      9\u001b[0m                                }\n\u001b[0;32m---> 11\u001b[0m k,pk \u001b[38;5;241m=\u001b[39m \u001b[43mC\u001b[49m\u001b[38;5;241;43m.\u001b[39;49m\u001b[43mget_pressure_fluctuation_spectrum\u001b[49m\u001b[43m(\u001b[49m\u001b[43m)\u001b[49m\n\u001b[1;32m     12\u001b[0m plt\u001b[38;5;241m.\u001b[39mloglog(k, pk)\n",
      "File \u001b[0;32m~/Project/anaconda3/envs/main/lib/python3.10/site-packages/pitszi/model_mock.py:650\u001b[0m, in \u001b[0;36mModelMock.get_pressure_fluctuation_spectrum\u001b[0;34m(self, kvec, kmin_norm, kmax_norm, Npt_norm)\u001b[0m\n\u001b[1;32m    648\u001b[0m     P3d_k \u001b[38;5;241m=\u001b[39m A\u001b[38;5;241m*\u001b[39m\u001b[38;5;241m*\u001b[39m\u001b[38;5;241m2\u001b[39m \u001b[38;5;241m*\u001b[39m pl\u001b[38;5;241m*\u001b[39mcut_high\u001b[38;5;241m*\u001b[39mcut_low \u001b[38;5;241m/\u001b[39m Normalization \u001b[38;5;66;03m# adu * u1 / (u1*k**3) = kpc^3\u001b[39;00m\n\u001b[1;32m    649\u001b[0m \u001b[38;5;28;01melse\u001b[39;00m:\n\u001b[0;32m--> 650\u001b[0m     \u001b[38;5;28;01mraise\u001b[39;00m \u001b[38;5;167;01mValueError\u001b[39;00m(\u001b[38;5;124m\"\u001b[39m\u001b[38;5;124mNo other model implemented yet\u001b[39m\u001b[38;5;124m\"\u001b[39m)\n\u001b[1;32m    652\u001b[0m \u001b[38;5;28;01mreturn\u001b[39;00m kvec, P3d_k\u001b[38;5;241m*\u001b[39mu\u001b[38;5;241m.\u001b[39mkpc\u001b[38;5;241m*\u001b[39m\u001b[38;5;241m*\u001b[39m\u001b[38;5;241m3\u001b[39m\n",
      "\u001b[0;31mValueError\u001b[0m: No other model implemented yet"
     ]
    }
   ],
   "source": [
    "C.model_pressure_fluctuation = {'name': 'ModifiedCutoffPowerLaw',\n",
    "                                'statistics': 'gaussian',\n",
    "                                'Norm': 0.25,\n",
    "                                'slope': -3.6666666666666665,\n",
    "                                'Linj': 100*u.kpc,\n",
    "                                'Ldis': 1*u.kpc,\n",
    "                                'Ninj': 1,\n",
    "                                'Ndis': 1,\n",
    "                               }\n",
    "\n",
    "k,pk = C.get_pressure_fluctuation_spectrum()\n",
    "plt.loglog(k, pk)"
   ]
  },
  {
   "cell_type": "code",
   "execution_count": 13,
   "id": "00605645-8223-4cb3-a8c7-8897c5473217",
   "metadata": {},
   "outputs": [
    {
     "ename": "TypeError",
     "evalue": "pk should be homogeneous to kpc^3",
     "output_type": "error",
     "traceback": [
      "\u001b[0;31m---------------------------------------------------------------------------\u001b[0m",
      "\u001b[0;31mUnitConversionError\u001b[0m                       Traceback (most recent call last)",
      "File \u001b[0;32m~/Project/anaconda3/envs/main/lib/python3.10/site-packages/pitszi/model_library.py:1044\u001b[0m, in \u001b[0;36mModelLibrary._validate_model_fluctuation_parameters\u001b[0;34m(self, inpar)\u001b[0m\n\u001b[1;32m   1043\u001b[0m \u001b[38;5;28;01mtry\u001b[39;00m:\n\u001b[0;32m-> 1044\u001b[0m     test \u001b[38;5;241m=\u001b[39m \u001b[43minpar\u001b[49m\u001b[43m[\u001b[49m\u001b[38;5;124;43m'\u001b[39;49m\u001b[38;5;124;43mpk\u001b[39;49m\u001b[38;5;124;43m'\u001b[39;49m\u001b[43m]\u001b[49m\u001b[38;5;241;43m.\u001b[39;49m\u001b[43mto\u001b[49m\u001b[43m(\u001b[49m\u001b[38;5;124;43m'\u001b[39;49m\u001b[38;5;124;43mkpc3\u001b[39;49m\u001b[38;5;124;43m'\u001b[39;49m\u001b[43m)\u001b[49m\n\u001b[1;32m   1045\u001b[0m \u001b[38;5;28;01mexcept\u001b[39;00m:\n",
      "File \u001b[0;32m~/Project/anaconda3/envs/main/lib/python3.10/site-packages/astropy/units/quantity.py:943\u001b[0m, in \u001b[0;36mQuantity.to\u001b[0;34m(self, unit, equivalencies, copy)\u001b[0m\n\u001b[1;32m    940\u001b[0m \u001b[38;5;28;01mif\u001b[39;00m copy:\n\u001b[1;32m    941\u001b[0m     \u001b[38;5;66;03m# Avoid using to_value to ensure that we make a copy. We also\u001b[39;00m\n\u001b[1;32m    942\u001b[0m     \u001b[38;5;66;03m# don't want to slow down this method (esp. the scalar case).\u001b[39;00m\n\u001b[0;32m--> 943\u001b[0m     value \u001b[38;5;241m=\u001b[39m \u001b[38;5;28;43mself\u001b[39;49m\u001b[38;5;241;43m.\u001b[39;49m\u001b[43m_to_value\u001b[49m\u001b[43m(\u001b[49m\u001b[43munit\u001b[49m\u001b[43m,\u001b[49m\u001b[43m \u001b[49m\u001b[43mequivalencies\u001b[49m\u001b[43m)\u001b[49m\n\u001b[1;32m    944\u001b[0m \u001b[38;5;28;01melse\u001b[39;00m:\n\u001b[1;32m    945\u001b[0m     \u001b[38;5;66;03m# to_value only copies if necessary\u001b[39;00m\n",
      "File \u001b[0;32m~/Project/anaconda3/envs/main/lib/python3.10/site-packages/astropy/units/quantity.py:896\u001b[0m, in \u001b[0;36mQuantity._to_value\u001b[0;34m(self, unit, equivalencies)\u001b[0m\n\u001b[1;32m    894\u001b[0m \u001b[38;5;28;01mif\u001b[39;00m \u001b[38;5;129;01mnot\u001b[39;00m \u001b[38;5;28mself\u001b[39m\u001b[38;5;241m.\u001b[39mdtype\u001b[38;5;241m.\u001b[39mnames \u001b[38;5;129;01mor\u001b[39;00m \u001b[38;5;28misinstance\u001b[39m(\u001b[38;5;28mself\u001b[39m\u001b[38;5;241m.\u001b[39munit, StructuredUnit):\n\u001b[1;32m    895\u001b[0m     \u001b[38;5;66;03m# Standard path, let unit to do work.\u001b[39;00m\n\u001b[0;32m--> 896\u001b[0m     \u001b[38;5;28;01mreturn\u001b[39;00m \u001b[38;5;28;43mself\u001b[39;49m\u001b[38;5;241;43m.\u001b[39;49m\u001b[43munit\u001b[49m\u001b[38;5;241;43m.\u001b[39;49m\u001b[43mto\u001b[49m\u001b[43m(\u001b[49m\n\u001b[1;32m    897\u001b[0m \u001b[43m        \u001b[49m\u001b[43munit\u001b[49m\u001b[43m,\u001b[49m\u001b[43m \u001b[49m\u001b[38;5;28;43mself\u001b[39;49m\u001b[38;5;241;43m.\u001b[39;49m\u001b[43mview\u001b[49m\u001b[43m(\u001b[49m\u001b[43mnp\u001b[49m\u001b[38;5;241;43m.\u001b[39;49m\u001b[43mndarray\u001b[49m\u001b[43m)\u001b[49m\u001b[43m,\u001b[49m\u001b[43m \u001b[49m\u001b[43mequivalencies\u001b[49m\u001b[38;5;241;43m=\u001b[39;49m\u001b[43mequivalencies\u001b[49m\n\u001b[1;32m    898\u001b[0m \u001b[43m    \u001b[49m\u001b[43m)\u001b[49m\n\u001b[1;32m    900\u001b[0m \u001b[38;5;28;01melse\u001b[39;00m:\n\u001b[1;32m    901\u001b[0m     \u001b[38;5;66;03m# The .to() method of a simple unit cannot convert a structured\u001b[39;00m\n\u001b[1;32m    902\u001b[0m     \u001b[38;5;66;03m# dtype, so we work around it, by recursing.\u001b[39;00m\n\u001b[1;32m    903\u001b[0m     \u001b[38;5;66;03m# TODO: deprecate this?\u001b[39;00m\n\u001b[1;32m    904\u001b[0m     \u001b[38;5;66;03m# Convert simple to Structured on initialization?\u001b[39;00m\n",
      "File \u001b[0;32m~/Project/anaconda3/envs/main/lib/python3.10/site-packages/astropy/units/core.py:1227\u001b[0m, in \u001b[0;36mUnitBase.to\u001b[0;34m(self, other, value, equivalencies)\u001b[0m\n\u001b[1;32m   1226\u001b[0m \u001b[38;5;28;01melse\u001b[39;00m:\n\u001b[0;32m-> 1227\u001b[0m     \u001b[38;5;28;01mreturn\u001b[39;00m \u001b[38;5;28;43mself\u001b[39;49m\u001b[38;5;241;43m.\u001b[39;49m\u001b[43mget_converter\u001b[49m\u001b[43m(\u001b[49m\u001b[43mUnit\u001b[49m\u001b[43m(\u001b[49m\u001b[43mother\u001b[49m\u001b[43m)\u001b[49m\u001b[43m,\u001b[49m\u001b[43m \u001b[49m\u001b[43mequivalencies\u001b[49m\u001b[43m)\u001b[49m(value)\n",
      "File \u001b[0;32m~/Project/anaconda3/envs/main/lib/python3.10/site-packages/astropy/units/core.py:1156\u001b[0m, in \u001b[0;36mUnitBase.get_converter\u001b[0;34m(self, other, equivalencies)\u001b[0m\n\u001b[1;32m   1154\u001b[0m                 \u001b[38;5;28;01mreturn\u001b[39;00m \u001b[38;5;28;01mlambda\u001b[39;00m v: b(converter(v))\n\u001b[0;32m-> 1156\u001b[0m \u001b[38;5;28;01mraise\u001b[39;00m exc\n",
      "File \u001b[0;32m~/Project/anaconda3/envs/main/lib/python3.10/site-packages/astropy/units/core.py:1139\u001b[0m, in \u001b[0;36mUnitBase.get_converter\u001b[0;34m(self, other, equivalencies)\u001b[0m\n\u001b[1;32m   1138\u001b[0m \u001b[38;5;28;01mtry\u001b[39;00m:\n\u001b[0;32m-> 1139\u001b[0m     \u001b[38;5;28;01mreturn\u001b[39;00m \u001b[38;5;28;43mself\u001b[39;49m\u001b[38;5;241;43m.\u001b[39;49m\u001b[43m_apply_equivalencies\u001b[49m\u001b[43m(\u001b[49m\n\u001b[1;32m   1140\u001b[0m \u001b[43m        \u001b[49m\u001b[38;5;28;43mself\u001b[39;49m\u001b[43m,\u001b[49m\u001b[43m \u001b[49m\u001b[43mother\u001b[49m\u001b[43m,\u001b[49m\u001b[43m \u001b[49m\u001b[38;5;28;43mself\u001b[39;49m\u001b[38;5;241;43m.\u001b[39;49m\u001b[43m_normalize_equivalencies\u001b[49m\u001b[43m(\u001b[49m\u001b[43mequivalencies\u001b[49m\u001b[43m)\u001b[49m\n\u001b[1;32m   1141\u001b[0m \u001b[43m    \u001b[49m\u001b[43m)\u001b[49m\n\u001b[1;32m   1142\u001b[0m \u001b[38;5;28;01mexcept\u001b[39;00m UnitsError \u001b[38;5;28;01mas\u001b[39;00m exc:\n\u001b[1;32m   1143\u001b[0m     \u001b[38;5;66;03m# Last hope: maybe other knows how to do it?\u001b[39;00m\n\u001b[1;32m   1144\u001b[0m     \u001b[38;5;66;03m# We assume the equivalencies have the unit itself as first item.\u001b[39;00m\n\u001b[1;32m   1145\u001b[0m     \u001b[38;5;66;03m# TODO: maybe better for other to have a `_back_converter` method?\u001b[39;00m\n",
      "File \u001b[0;32m~/Project/anaconda3/envs/main/lib/python3.10/site-packages/astropy/units/core.py:1090\u001b[0m, in \u001b[0;36mUnitBase._apply_equivalencies\u001b[0;34m(self, unit, other, equivalencies)\u001b[0m\n\u001b[1;32m   1088\u001b[0m other_str \u001b[38;5;241m=\u001b[39m get_err_str(other)\n\u001b[0;32m-> 1090\u001b[0m \u001b[38;5;28;01mraise\u001b[39;00m UnitConversionError(\u001b[38;5;124mf\u001b[39m\u001b[38;5;124m\"\u001b[39m\u001b[38;5;132;01m{\u001b[39;00munit_str\u001b[38;5;132;01m}\u001b[39;00m\u001b[38;5;124m and \u001b[39m\u001b[38;5;132;01m{\u001b[39;00mother_str\u001b[38;5;132;01m}\u001b[39;00m\u001b[38;5;124m are not convertible\u001b[39m\u001b[38;5;124m\"\u001b[39m)\n",
      "\u001b[0;31mUnitConversionError\u001b[0m: 'kpc2' (area) and 'kpc3' (volume) are not convertible",
      "\nDuring handling of the above exception, another exception occurred:\n",
      "\u001b[0;31mTypeError\u001b[0m                                 Traceback (most recent call last)",
      "Cell \u001b[0;32mIn[13], line 4\u001b[0m\n\u001b[1;32m      1\u001b[0m k \u001b[38;5;241m=\u001b[39m np\u001b[38;5;241m.\u001b[39marray([\u001b[38;5;241m0\u001b[39m,\u001b[38;5;241m1\u001b[39m,\u001b[38;5;241m2\u001b[39m,\u001b[38;5;241m3\u001b[39m])\u001b[38;5;241m*\u001b[39mu\u001b[38;5;241m.\u001b[39mkpc\u001b[38;5;241m*\u001b[39m\u001b[38;5;241m*\u001b[39m\u001b[38;5;241m-\u001b[39m\u001b[38;5;241m1\u001b[39m\n\u001b[1;32m      2\u001b[0m pk \u001b[38;5;241m=\u001b[39m np\u001b[38;5;241m.\u001b[39marray([\u001b[38;5;241m0\u001b[39m,\u001b[38;5;241m1\u001b[39m,\u001b[38;5;241m1\u001b[39m,\u001b[38;5;241m0\u001b[39m])\u001b[38;5;241m*\u001b[39mu\u001b[38;5;241m.\u001b[39mkpc\u001b[38;5;241m*\u001b[39m\u001b[38;5;241m*\u001b[39m\u001b[38;5;241m2\u001b[39m\n\u001b[0;32m----> 4\u001b[0m \u001b[43mC\u001b[49m\u001b[38;5;241;43m.\u001b[39;49m\u001b[43mmodel_pressure_fluctuation\u001b[49m \u001b[38;5;241m=\u001b[39m {\u001b[38;5;124m'\u001b[39m\u001b[38;5;124mname\u001b[39m\u001b[38;5;124m'\u001b[39m: \u001b[38;5;124m'\u001b[39m\u001b[38;5;124mUser\u001b[39m\u001b[38;5;124m'\u001b[39m,\n\u001b[1;32m      5\u001b[0m                                 \u001b[38;5;124m'\u001b[39m\u001b[38;5;124mstatistics\u001b[39m\u001b[38;5;124m'\u001b[39m: \u001b[38;5;124m'\u001b[39m\u001b[38;5;124mgaussian\u001b[39m\u001b[38;5;124m'\u001b[39m,\n\u001b[1;32m      6\u001b[0m                                 \u001b[38;5;124m'\u001b[39m\u001b[38;5;124mk\u001b[39m\u001b[38;5;124m'\u001b[39m: k,\n\u001b[1;32m      7\u001b[0m                                 \u001b[38;5;124m'\u001b[39m\u001b[38;5;124mpk\u001b[39m\u001b[38;5;124m'\u001b[39m: pk}\n\u001b[1;32m      9\u001b[0m k,pk \u001b[38;5;241m=\u001b[39m C\u001b[38;5;241m.\u001b[39mget_pressure_fluctuation_spectrum()\n\u001b[1;32m     10\u001b[0m plt\u001b[38;5;241m.\u001b[39mloglog(k, pk)\n",
      "File \u001b[0;32m~/Project/anaconda3/envs/main/lib/python3.10/site-packages/pitszi/model_main.py:834\u001b[0m, in \u001b[0;36mModel.model_pressure_fluctuation\u001b[0;34m(self, value)\u001b[0m\n\u001b[1;32m    831\u001b[0m     \u001b[38;5;28;01mraise\u001b[39;00m \u001b[38;5;167;01mTypeError\u001b[39;00m(\u001b[38;5;124m\"\u001b[39m\u001b[38;5;124mThe model of pressure fluctuation should be a dictionary with relevant keys\u001b[39m\u001b[38;5;124m\"\u001b[39m)\n\u001b[1;32m    833\u001b[0m \u001b[38;5;66;03m# Check the input parameters and use it\u001b[39;00m\n\u001b[0;32m--> 834\u001b[0m Ppar \u001b[38;5;241m=\u001b[39m \u001b[38;5;28;43mself\u001b[39;49m\u001b[38;5;241;43m.\u001b[39;49m\u001b[43m_validate_model_fluctuation_parameters\u001b[49m\u001b[43m(\u001b[49m\u001b[43mvalue\u001b[49m\u001b[43m)\u001b[49m\n\u001b[1;32m    835\u001b[0m \u001b[38;5;28mself\u001b[39m\u001b[38;5;241m.\u001b[39m_model_pressure_fluctuation \u001b[38;5;241m=\u001b[39m Ppar\n\u001b[1;32m    837\u001b[0m \u001b[38;5;66;03m# Information\u001b[39;00m\n",
      "File \u001b[0;32m~/Project/anaconda3/envs/main/lib/python3.10/site-packages/pitszi/model_library.py:1046\u001b[0m, in \u001b[0;36mModelLibrary._validate_model_fluctuation_parameters\u001b[0;34m(self, inpar)\u001b[0m\n\u001b[1;32m   1044\u001b[0m     test \u001b[38;5;241m=\u001b[39m inpar[\u001b[38;5;124m'\u001b[39m\u001b[38;5;124mpk\u001b[39m\u001b[38;5;124m'\u001b[39m]\u001b[38;5;241m.\u001b[39mto(\u001b[38;5;124m'\u001b[39m\u001b[38;5;124mkpc3\u001b[39m\u001b[38;5;124m'\u001b[39m)\n\u001b[1;32m   1045\u001b[0m \u001b[38;5;28;01mexcept\u001b[39;00m:\n\u001b[0;32m-> 1046\u001b[0m     \u001b[38;5;28;01mraise\u001b[39;00m \u001b[38;5;167;01mTypeError\u001b[39;00m(\u001b[38;5;124m\"\u001b[39m\u001b[38;5;124mpk should be homogeneous to kpc^3\u001b[39m\u001b[38;5;124m\"\u001b[39m)\n\u001b[1;32m   1048\u001b[0m \u001b[38;5;66;03m# Check values\u001b[39;00m\n\u001b[1;32m   1049\u001b[0m \u001b[38;5;28;01mif\u001b[39;00m np\u001b[38;5;241m.\u001b[39mamin(inpar[\u001b[38;5;124m'\u001b[39m\u001b[38;5;124mk\u001b[39m\u001b[38;5;124m'\u001b[39m]) \u001b[38;5;241m<\u001b[39m \u001b[38;5;241m0\u001b[39m:\n",
      "\u001b[0;31mTypeError\u001b[0m: pk should be homogeneous to kpc^3"
     ]
    }
   ],
   "source": [
    "k = np.array([0,1,2,3])*u.kpc**-1\n",
    "pk = np.array([0,1,1,0])*u.kpc**2\n",
    "\n",
    "C.model_pressure_fluctuation = {'name': 'User',\n",
    "                                'statistics': 'gaussian',\n",
    "                                'k': k,\n",
    "                                'pk': pk}\n",
    "\n",
    "k,pk = C.get_pressure_fluctuation_spectrum()\n",
    "plt.loglog(k, pk)"
   ]
  },
  {
   "cell_type": "code",
   "execution_count": null,
   "id": "e9a9ac24-ee1c-4d04-89ec-23e28381ab5b",
   "metadata": {},
   "outputs": [],
   "source": []
  }
 ],
 "metadata": {
  "kernelspec": {
   "display_name": "Python 3 (ipykernel)",
   "language": "python",
   "name": "python3"
  },
  "language_info": {
   "codemirror_mode": {
    "name": "ipython",
    "version": 3
   },
   "file_extension": ".py",
   "mimetype": "text/x-python",
   "name": "python",
   "nbconvert_exporter": "python",
   "pygments_lexer": "ipython3",
   "version": "3.10.15"
  }
 },
 "nbformat": 4,
 "nbformat_minor": 5
}
