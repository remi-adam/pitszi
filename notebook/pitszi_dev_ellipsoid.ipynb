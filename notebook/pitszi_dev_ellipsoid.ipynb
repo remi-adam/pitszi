{
 "cells": [
  {
   "cell_type": "code",
   "execution_count": 1,
   "metadata": {},
   "outputs": [],
   "source": [
    "import sys\n",
    "sys.path.insert(0,'/Users/adam/Project/NIKA/Software/Processing/Labtools/RA/pitszi/')\n",
    "import numpy as np\n",
    "import matplotlib.pyplot as plt\n",
    "from astropy.coordinates import SkyOffsetFrame, SkyCoord\n",
    "import astropy.units as u\n",
    "import numpy as np\n",
    "from astropy.wcs import WCS\n",
    "from astropy.io import fits\n",
    "from scipy.ndimage import gaussian_filter\n",
    "from minot.ClusterTools import map_tools\n",
    "import pitszi\n",
    "import minot"
   ]
  },
  {
   "cell_type": "markdown",
   "metadata": {},
   "source": [
    "# Test with MINOT"
   ]
  },
  {
   "cell_type": "raw",
   "metadata": {},
   "source": [
    "m = minot.Cluster(redshift=0.5, M500=1e15*u.Msun, silent=True)   \n",
    "m.coord     = SkyCoord(\"23:59:50 +00:02:00\", unit=(u.hourangle, u.deg), frame=\"icrs\")\n",
    "m.map_coord = SkyCoord(\"00:00:00 +00:00:00\", unit=(u.hourangle, u.deg), frame=\"icrs\")\n",
    "m.map_fov   = [10,5]*u.arcmin\n",
    "m.map_reso  = 5*u.arcsec\n",
    "m.output_dir = '/Users/adam/Desktop/'\n",
    "\n",
    "m.save_map()\n",
    "\n",
    "ax = plt.subplot(projection=WCS(m.get_map_header()))\n",
    "plt.imshow(m.get_sz_map().value)\n",
    "\n",
    "print(m.get_sz_map().value.shape)\n",
    "m.get_map_header()"
   ]
  },
  {
   "cell_type": "code",
   "execution_count": 2,
   "metadata": {},
   "outputs": [
    {
     "name": "stdout",
     "output_type": "stream",
     "text": [
      "=====================================================\n",
      "===== Information relative to the grid sampling =====\n",
      "=====================================================\n",
      "   Grid size : 119 , 59 , 319\n",
      "   Pixel size :      31.4     kpc ;     5.0      arcsec\n",
      "   Fov size :  [   3741.5   ,   1855.0   ] kpc ; [   9.917    ,   4.917    ] arcmin\n",
      "   L.o.S. resolution :         12.6     kpc\n",
      "   Map center :   <SkyCoord (ICRS): (ra, dec) in deg\n",
      "    (330., 50.)>\n",
      "   k min/max projected :       0.001681  /  0.099160   1/arcsec\n",
      "   k min/max projected :       0.000267  /  0.015769   1/kpc\n",
      "   k min/max L.o.S. (eq.) :    0.001567  /  0.249216   1/arcsec\n",
      "   k min/max L.o.S. :          0.000249  /  0.039632   1/kpc\n",
      "   k max Nyquist :             0.098305   1/arcsec\n",
      "   k max Nyquist :             0.015633   1/kpc\n",
      "=====================================================\n",
      "(59, 119)\n"
     ]
    },
    {
     "data": {
      "image/png": "[encoded data removed]",
      "text/plain": [
       "<Figure size 432x288 with 1 Axes>"
      ]
     },
     "metadata": {
      "needs_background": "light"
     },
     "output_type": "display_data"
    }
   ],
   "source": [
    "c = pitszi.Model(redshift=0.5, M500=1e15*u.Msun, silent=True)   \n",
    "c.coord      = SkyCoord(\"22:00:15 +49:59:00\", unit=(u.hourangle, u.deg), frame=\"icrs\")\n",
    "c.map_center = SkyCoord(\"22:00:00 +50:00:00\", unit=(u.hourangle, u.deg), frame=\"icrs\")\n",
    "c.map_fov    = [10,5]*u.arcmin\n",
    "c.map_reso   = 5*u.arcsec\n",
    "c.los_reso   = 12.576462897253872*u.kpc#20*u.kpc\n",
    "\n",
    "c.triaxiality = {'min_to_maj_axis_ratio': 0.1,\n",
    "                 'int_to_maj_axis_ratio': 0.6,\n",
    "                 'euler_angle1': 0*u.deg,\n",
    "                 'euler_angle2': 0*u.deg,\n",
    "                 'euler_angle3': 0*u.deg}\n",
    "\n",
    "c.give_sampling_information()\n",
    "\n",
    "img = c.get_sz_map(no_fluctuations=True)\n",
    "header = c.get_map_header()\n",
    "hdu = fits.PrimaryHDU(header=header)\n",
    "hdu.data = img\n",
    "hdu.header['EQUINOX'] = (2000., '[years]')\n",
    "hdu.writeto('/Users/adam/Desktop/test.fits', overwrite=True)\n",
    "\n",
    "ax = plt.subplot(projection=WCS(header))\n",
    "plt.imshow(img)\n",
    "\n",
    "print(img.shape)\n",
    "#c.get_map_header()"
   ]
  },
  {
   "cell_type": "code",
   "execution_count": null,
   "metadata": {},
   "outputs": [],
   "source": [
    "q_a = 0.1\n",
    "q_b = 0.3\n",
    "angle1 = 0\n",
    "angle2 = 0\n",
    "angle3 = 0"
   ]
  },
  {
   "cell_type": "markdown",
   "metadata": {},
   "source": [
    "# Tests"
   ]
  },
  {
   "cell_type": "code",
   "execution_count": null,
   "metadata": {},
   "outputs": [],
   "source": [
    "from scipy.spatial.transform import Rotation as R\n",
    "\n",
    "Nx, Ny, Nz, proj_reso, proj_reso, los_reso = c.get_3dgrid()\n",
    "\n",
    "ctr_xpix_vec = np.linspace(-Nx*proj_reso/2, Nx*proj_reso/2, Nx)\n",
    "ctr_ypix_vec = np.linspace(-Ny*proj_reso/2, Ny*proj_reso/2, Ny)\n",
    "ctr_zpix_vec = np.linspace(-Nz*los_reso/2,  Nz*los_reso/2,  Nz)\n",
    "\n",
    "coord_x, coord_y, coord_z = np.meshgrid(ctr_xpix_vec, ctr_ypix_vec, ctr_zpix_vec, indexing='ij')\n",
    "        \n",
    "rot = R.from_euler('ZXZ', [angle1, angle2, angle3], degrees=True)\n",
    "coordinates = np.stack((coord_x, coord_y, coord_z), axis=-1)\n",
    "coordinates_reshape = coordinates.reshape(-1, 3)\n",
    "rotated_coordinates = rot.apply(coordinates_reshape).reshape(coord_x.shape + (3,))\n",
    "\n",
    "rot_coord_x = rotated_coordinates[:,:,:,0] / q_a\n",
    "rot_coord_y = rotated_coordinates[:,:,:,1] / q_b\n",
    "rot_coord_z = rotated_coordinates[:,:,:,2]\n",
    "        \n",
    "rad_grid = np.sqrt((rot_coord_x)**2 + (rot_coord_y)**2 + (rot_coord_z)**2)"
   ]
  },
  {
   "cell_type": "code",
   "execution_count": null,
   "metadata": {},
   "outputs": [],
   "source": [
    "plt.figure(figsize=(15,5))\n",
    "plt.subplot(1,3,1)\n",
    "plt.imshow(rad_grid[:,:,int(rad_grid.shape[2]/2)].T, origin='lower')\n",
    "plt.colorbar()\n",
    "plt.contour(rad_grid[:,:,int(rad_grid.shape[2]/2)].T, levels=[3000], colors='r')\n",
    "plt.title('xy plane')\n",
    "\n",
    "plt.subplot(1,3,2)\n",
    "plt.imshow(rad_grid[:,int(rad_grid.shape[1]/2),:].T, origin='lower')\n",
    "plt.colorbar()\n",
    "plt.contour(rad_grid[:,int(rad_grid.shape[1]/2),:].T, levels=[3000], colors='r')\n",
    "plt.title('xz plane')\n",
    "\n",
    "plt.subplot(1,3,3)\n",
    "plt.imshow(rad_grid[int(rad_grid.shape[0]/2),:,:], origin='lower')\n",
    "plt.colorbar()\n",
    "plt.contour(rad_grid[int(rad_grid.shape[0]/2),:,:], levels=[3000], colors='r')\n",
    "plt.title('yz plane')"
   ]
  },
  {
   "cell_type": "code",
   "execution_count": null,
   "metadata": {},
   "outputs": [],
   "source": []
  }
 ],
 "metadata": {
  "kernelspec": {
   "display_name": "Python 3",
   "language": "python",
   "name": "python3"
  },
  "language_info": {
   "codemirror_mode": {
    "name": "ipython",
    "version": 3
   },
   "file_extension": ".py",
   "mimetype": "text/x-python",
   "name": "python",
   "nbconvert_exporter": "python",
   "pygments_lexer": "ipython3",
   "version": "3.7.12"
  }
 },
 "nbformat": 4,
 "nbformat_minor": 4
}
