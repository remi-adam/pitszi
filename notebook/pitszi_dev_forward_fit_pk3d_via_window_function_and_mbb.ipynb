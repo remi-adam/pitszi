{
 "cells": [
  {
   "cell_type": "raw",
   "id": "bf45159f",
   "metadata": {},
   "source": [
    "This notebook uses the method from pitszi_dev_forward_pk3d_model_via_window_function_and_mbb (i.e. computing the expected Pk2d model from Pk3d via Kmnmn and window function) to fit mock data and test the reliability of the fit."
   ]
  },
  {
   "cell_type": "markdown",
   "id": "8c9979b3",
   "metadata": {},
   "source": [
    "# Imports"
   ]
  },
  {
   "cell_type": "code",
   "execution_count": null,
   "id": "f04d7140",
   "metadata": {},
   "outputs": [],
   "source": [
    "import sys\n",
    "import os\n",
    "sys.path.insert(0,'/Users/adam/Project/NIKA/Software/Processing/Labtools/RA/pitszi/')\n",
    "\n",
    "import numpy as np\n",
    "import matplotlib.pyplot as plt\n",
    "from astropy.coordinates import SkyCoord\n",
    "import astropy.units as u\n",
    "from astropy.io import fits\n",
    "import numpy as np\n",
    "from astropy.wcs import WCS\n",
    "from scipy.ndimage import gaussian_filter\n",
    "import time\n",
    "import copy\n",
    "\n",
    "from minot.ClusterTools import map_tools\n",
    "import pitszi"
   ]
  },
  {
   "cell_type": "markdown",
   "id": "6c5d1be9",
   "metadata": {},
   "source": [
    "# Parameters"
   ]
  },
  {
   "cell_type": "code",
   "execution_count": null,
   "id": "1b140b9a",
   "metadata": {},
   "outputs": [],
   "source": [
    "output_dir = '/Users/adam/Desktop/pitszi_Mbb/'"
   ]
  },
  {
   "cell_type": "code",
   "execution_count": null,
   "id": "09ef60b5",
   "metadata": {},
   "outputs": [],
   "source": [
    "#----- Physical model parameters\n",
    "redshift = 0.5\n",
    "M500 = 1e15*u.Msun\n",
    "RA, Dec = 30*u.deg, 55*u.deg\n",
    "axis_q1, axis_q2 = 0.7, 0.8\n",
    "euler_1, euler_2, euler_3 = 40*u.deg, 50*u.deg, 15*u.deg\n",
    "\n",
    "fluct_norm = 0.5\n",
    "fluct_slope = -11./3\n",
    "fluct_linj = 800*u.kpc\n",
    "fluct_seed = 25252"
   ]
  },
  {
   "cell_type": "code",
   "execution_count": null,
   "id": "4519c79e",
   "metadata": {},
   "outputs": [],
   "source": [
    "#----- Instrumental parameters\n",
    "# Beam smoothing\n",
    "beam_FWHM = 18*u.arcsec\n",
    "\n",
    "# Transfer function\n",
    "karcsec = np.linspace(0, 1/beam_FWHM.to_value('arcsec')*10, 1000)*u.arcsec**-1\n",
    "kfov = 1/(7*60)\n",
    "TF = {'k':karcsec, 'TF':1-np.exp(-karcsec.to_value('arcsec-1')/kfov)}\n",
    "\n",
    "# Mask\n",
    "mask_Ntheta500 = 0.5\n",
    "\n",
    "# Noise\n",
    "noise_k = lambda k_arcsec: (1e-9 + 3e-9 * (k_arcsec*60)**-1)\n",
    "noise_r = lambda r_arcsec: (1 + np.exp((r_arcsec-200)/80))\n",
    "noise_seed = 24355"
   ]
  },
  {
   "cell_type": "code",
   "execution_count": null,
   "id": "1acf475c",
   "metadata": {},
   "outputs": [],
   "source": [
    "#----- Analysis parameters\n",
    "# Image sampling\n",
    "los_size = 1*u.Mpc\n",
    "los_reso = 100*u.kpc\n",
    "\n",
    "# Pk measurement\n",
    "Nbins_pk = 10\n",
    "scale_bins = 'lin'\n",
    "kmin_pk = 1/(60*7)*u.arcsec**-1\n",
    "kmax_pk = 1/(2*beam_FWHM.to('arcsec'))\n",
    "\n",
    "method_data_deconv = False\n",
    "method_w8_radial  = True\n",
    "method_w8_smooth  = 20*u.arcsec\n",
    "method_w8_beam    = True\n",
    "method_w8_TF      = False\n",
    "\n",
    "# MCMC\n",
    "nwalkers = 100\n",
    "nsteps = 1000\n",
    "burnin = 200\n",
    "mcmc_reset = False\n",
    "mcmc_run = False"
   ]
  },
  {
   "cell_type": "markdown",
   "id": "e2d1dfb7",
   "metadata": {},
   "source": [
    "# Generate mock data"
   ]
  },
  {
   "cell_type": "code",
   "execution_count": null,
   "id": "6e04a6c8",
   "metadata": {},
   "outputs": [],
   "source": [
    "#===== Generate a model for the cluster and its fluctuations\n",
    "mock = pitszi.Model(RA=RA, Dec=Dec, redshift=redshift, M500=M500, silent=True, output_dir=output_dir)\n",
    "mock.set_pressure_profile_universal_param('A10MD')\n",
    "mock.model_pressure_fluctuation = {'name': 'CutoffPowerLaw',\n",
    "                                   'Norm': fluct_norm, \n",
    "                                   'slope': fluct_slope,\n",
    "                                   'Linj': fluct_linj,\n",
    "                                   'Ldis': 1*u.kpc}\n",
    "mock.triaxiality = {'min_to_maj_axis_ratio':axis_q1, 'int_to_maj_axis_ratio':axis_q2,\n",
    "                    'euler_angle1':euler_1, 'euler_angle2':euler_2, 'euler_angle3':euler_3}\n",
    "\n",
    "mock.map_center = SkyCoord(mock.coord.ra, mock.coord.dec, frame=\"icrs\")\n",
    "mock.map_fov    = [5, 5]*u.arcmin\n",
    "mock.map_reso  = 5.0*u.arcsec\n",
    "mock.los_reso  = los_reso\n",
    "mock.los_size  = los_size\n",
    "mock.R_truncation = mock.R500*5\n",
    "\n",
    "mock.give_sampling_information()"
   ]
  },
  {
   "cell_type": "code",
   "execution_count": null,
   "id": "a4abb1a0",
   "metadata": {},
   "outputs": [],
   "source": [
    "#===== Initiate a data object and fake data\n",
    "#----- init with \n",
    "data = pitszi.Data(np.zeros((1,1)), '')\n",
    "data.output_dir = output_dir\n",
    "\n",
    "#----- set basic IRFs\n",
    "data.psf_fwhm              = beam_FWHM\n",
    "data.transfer_function     = TF\n",
    "data.noise_model_pk_center = noise_k\n",
    "data.noise_model_radial    = noise_r\n",
    "\n",
    "#----- Mock the data\n",
    "img = data.set_image_to_mock(mock, \n",
    "                             model_seed=fluct_seed, model_no_fluctuations=False, use_model_header=True, \n",
    "                             noise_origin='model', noise_center=mock.map_center, noise_seed=noise_seed)\n",
    "\n",
    "#----- Get noise properties\n",
    "data.noise_rms = np.std(data.get_noise_monte_carlo_from_model(Nmc=1000, seed=noise_seed), axis=0)\n",
    "\n",
    "#----- Define the mask\n",
    "ramap, decmap = map_tools.get_radec_map(data.header)\n",
    "dist_map = map_tools.greatcircle(ramap, decmap, data.header['CRVAL1'], data.header['CRVAL2'])\n",
    "mask = dist_map * 0 + 1\n",
    "mask[dist_map > mask_Ntheta500*mock.theta500.to_value('deg')] = 0 \n",
    "\n",
    "data.mask = mask\n",
    "\n",
    "#----- Get MC noise realizations\n",
    "noise_mc = data.get_noise_monte_carlo_from_model(center=mock.coord, Nmc=1000, seed=noise_seed)"
   ]
  },
  {
   "cell_type": "code",
   "execution_count": null,
   "id": "45e78b19",
   "metadata": {},
   "outputs": [],
   "source": [
    "visu_smooth = 10\n",
    "\n",
    "#===== Show the data\n",
    "plt.rcParams.update({'font.size': 10})\n",
    "fig = plt.figure(0, figsize=(18, 12))\n",
    "\n",
    "ax = plt.subplot(2, 3, 1, projection=WCS(data.header))\n",
    "plt.imshow(mock.get_sz_map(seed=fluct_seed, no_fluctuations=False)*1e5, cmap='Spectral_r', vmin=0, vmax=10)\n",
    "cb = plt.colorbar()\n",
    "plt.title('Model y-Compton')\n",
    "plt.xlabel('R.A. (deg)')\n",
    "plt.ylabel('Dec. (deg)')\n",
    "\n",
    "ax = plt.subplot(2,3, 2, projection=WCS(data.header))\n",
    "plt.imshow(data.image*1e5, cmap='Spectral_r',vmin=-6, vmax=6)\n",
    "cb = plt.colorbar()\n",
    "plt.title('Mock data y-Compton')\n",
    "plt.xlabel('R.A. (deg)')\n",
    "plt.ylabel('Dec. (deg)')\n",
    "\n",
    "ax = plt.subplot(2,3, 3, projection=WCS(data.header))\n",
    "plt.imshow(gaussian_filter(data.image, sigma=visu_smooth/2.35/data.header['CDELT2']/3600)*1e5, cmap='Spectral_r', vmin=-6, vmax=6)\n",
    "cb = plt.colorbar()\n",
    "rms = np.std(gaussian_filter(noise_mc, sigma=np.array([0,1,1])*visu_smooth/2.35/data.header['CDELT2']/3600), axis=0)\n",
    "plt.contour(gaussian_filter(data.image, sigma=visu_smooth/2.35/data.header['CDELT2']/3600)/rms, levels=[3,6,9,12,15,18,21], colors='k')\n",
    "plt.title('Mock data y-Compton ('+str(int(visu_smooth))+'\" smoothing)')\n",
    "plt.xlabel('R.A. (deg)')\n",
    "plt.ylabel('Dec. (deg)')\n",
    "\n",
    "ax = plt.subplot(2,3, 4, projection=WCS(data.header))\n",
    "plt.imshow(data.mask, cmap='Spectral_r', vmin=0, vmax=1)\n",
    "cb = plt.colorbar()\n",
    "plt.title('Mask')\n",
    "plt.xlabel('R.A. (deg)')\n",
    "plt.ylabel('Dec. (deg)')\n",
    "\n",
    "ax = plt.subplot(2,3, 5, projection=WCS(data.header))\n",
    "plt.imshow(noise_mc[0]*1e5, cmap='Spectral_r', vmin=-2, vmax=2)\n",
    "cb = plt.colorbar()\n",
    "plt.title('Noise realization')\n",
    "plt.xlabel('R.A. (deg)')\n",
    "plt.ylabel('Dec. (deg)')\n",
    "\n",
    "ax = plt.subplot(2,3, 6, projection=WCS(data.header))\n",
    "plt.imshow(gaussian_filter(noise_mc[0], sigma=visu_smooth/2.35/data.header['CDELT2']/3600)*1e5, cmap='Spectral_r', vmin=-2, vmax=2)\n",
    "cb = plt.colorbar()\n",
    "rms = np.std(gaussian_filter(noise_mc, sigma=np.array([0,1,1])*visu_smooth/2.35/data.header['CDELT2']/3600), axis=0)\n",
    "plt.contour(gaussian_filter(noise_mc[0], sigma=visu_smooth/2.35/data.header['CDELT2']/3600)/rms, levels=[-3,3], colors='k')\n",
    "plt.title('Noise realization ('+str(int(visu_smooth))+'\" smoothing)')\n",
    "plt.xlabel('R.A. (deg)')\n",
    "plt.ylabel('Dec. (deg)')"
   ]
  },
  {
   "cell_type": "markdown",
   "id": "d41119c7",
   "metadata": {},
   "source": [
    "# Build model to be used in the fit"
   ]
  },
  {
   "cell_type": "code",
   "execution_count": null,
   "id": "39255cb6",
   "metadata": {},
   "outputs": [],
   "source": [
    "model = copy.deepcopy(mock)"
   ]
  },
  {
   "cell_type": "code",
   "execution_count": null,
   "id": "a8fffb53",
   "metadata": {},
   "outputs": [],
   "source": [
    "inference = pitszi.Inference(data, model)\n",
    "\n",
    "inference.kbin_min   = kmin_pk\n",
    "inference.kbin_max   = kmax_pk\n",
    "inference.kbin_Nbin  = Nbins_pk\n",
    "inference.kbin_scale = scale_bins\n",
    "\n",
    "inference.mcmc_nwalkers = nwalkers\n",
    "inference.mcmc_nsteps   = nsteps\n",
    "inference.mcmc_burnin   = burnin\n",
    "inference.mcmc_reset    = mcmc_reset\n",
    "inference.mcmc_run      = mcmc_run\n",
    "inference.output_dir    = output_dir\n",
    "\n",
    "inference.method_data_deconv = method_data_deconv\n",
    "inference.set_method_w8(apply_radial_model=method_w8_radial, \n",
    "                        conv_radial_model_beam=method_w8_beam, conv_radial_model_TF=method_w8_TF, \n",
    "                        remove_GNFW_core=True, \n",
    "                        smooth_FWHM=method_w8_smooth)"
   ]
  },
  {
   "cell_type": "markdown",
   "id": "fca8279b",
   "metadata": {},
   "source": [
    "# Fit the fluctuation parameters"
   ]
  },
  {
   "cell_type": "code",
   "execution_count": null,
   "id": "e0e4ea2b",
   "metadata": {},
   "outputs": [],
   "source": [
    "fitpar_pk3d = {\n",
    "    'Norm':{'guess':[0.5, 0.5],'unit': None,'limit':[0, 3]}, #'prior':[0.5, 0.2],},\n",
    "    #'slope':{'guess':[-11/3, 0.5],'unit': None,'limit':[-11/3-2, -11/3+2]}, #, #'prior':[-11/3, 0.5],},\n",
    "    'Linj':{'guess':[800, 500],'unit': u.kpc,'limit':[100, 3000]}, #, 'prior':[600, 300],               \n",
    "              }\n",
    "fitpar_noise = {'ampli':{'guess':[1, 0.2],'unit': None,'limit':[0, 2]}}"
   ]
  },
  {
   "cell_type": "code",
   "execution_count": null,
   "id": "46c75d10",
   "metadata": {},
   "outputs": [],
   "source": [
    "fitpar, sampler = inference.fit_fluct_brute(fitpar_pk3d,\n",
    "                                            parinfo_noise=fitpar_noise, \n",
    "                                            Nmc_noise=100,\n",
    "                                            use_covmat=False,\n",
    "                                            scale_model_variance=False,\n",
    "                                            show_fit_result=False)"
   ]
  },
  {
   "cell_type": "raw",
   "id": "17bb0cd6",
   "metadata": {},
   "source": [
    "truth = [\n",
    "    fluct_norm, \n",
    "    #fluct_slope, \n",
    "    fluct_linj.to_value('kpc'), \n",
    "    1,\n",
    "]\n",
    "inference.get_mcmc_chains_outputs_results(fitpar, sampler, extraname='_Pk_brute', truth=truth)"
   ]
  },
  {
   "cell_type": "code",
   "execution_count": null,
   "id": "4faae9da",
   "metadata": {},
   "outputs": [],
   "source": [
    "k_true, pk_true = mock.get_pressure_fluctuation_spectrum()\n",
    "true_pk3d = {'k':k_true.to_value('kpc-1'), 'pk':pk_true.to_value('kpc3')}\n",
    "inference.fit_fluct_brute_results(sampler,\n",
    "                                  fitpar_pk3d,\n",
    "                                  Nmc=100,\n",
    "                                  parinfo_noise=fitpar_noise,\n",
    "                                  true_pk3d=true_pk3d)"
   ]
  }
 ],
 "metadata": {
  "kernelspec": {
   "display_name": "Python 3",
   "language": "python",
   "name": "python3"
  },
  "language_info": {
   "codemirror_mode": {
    "name": "ipython",
    "version": 3
   },
   "file_extension": ".py",
   "mimetype": "text/x-python",
   "name": "python",
   "nbconvert_exporter": "python",
   "pygments_lexer": "ipython3",
   "version": "3.7.12"
  }
 },
 "nbformat": 4,
 "nbformat_minor": 5
}
