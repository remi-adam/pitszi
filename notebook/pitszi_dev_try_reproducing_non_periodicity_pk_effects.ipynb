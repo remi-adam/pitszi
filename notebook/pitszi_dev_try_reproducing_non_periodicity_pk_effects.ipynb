{
 "cells": [
  {
   "cell_type": "raw",
   "id": "e4703539",
   "metadata": {},
   "source": [
    "This script tests reproducing differences between input and recovered Pk when having aliasing effects due to non-periodicity in the data"
   ]
  },
  {
   "cell_type": "code",
   "execution_count": 1,
   "id": "b2e9c971",
   "metadata": {},
   "outputs": [],
   "source": [
    "import numpy as np\n",
    "from scipy.ndimage import gaussian_filter, fourier_gaussian\n",
    "import matplotlib.pyplot as plt\n",
    "from scipy import signal\n",
    "import scipy.stats as stats\n",
    "import time"
   ]
  },
  {
   "cell_type": "code",
   "execution_count": 2,
   "id": "db7a32ca",
   "metadata": {},
   "outputs": [],
   "source": [
    "def input_pk(k):\n",
    "    return norm * (k/kpiv)**-beta_spec * (np.exp(-1/(Lcut*k)**2))**0.5*np.exp(-(k*Ldis)**2)**0.5"
   ]
  },
  {
   "cell_type": "code",
   "execution_count": 3,
   "id": "56ccd6a2",
   "metadata": {},
   "outputs": [],
   "source": [
    "Nx, Ny = 31, 41 # Number of pixel\n",
    "reso = 5.0      # Resolution in arcsec\n",
    "Nz = 20\n",
    "rlos = 10.0\n",
    "mapscale = 1    # Increase the map size by this factor for aliasing purpose\n",
    "\n",
    "Lcut = 100.0        # Injection cut in arcsec\n",
    "Ldis = 50.0        # Injection cut in arcsec\n",
    "beta_spec = 11.0/3  # Spectral index for the modelign\n",
    "kpiv = 0.2          # k at which Pk is normalized\n",
    "norm = 1            # Normalization of Pk"
   ]
  },
  {
   "cell_type": "code",
   "execution_count": 4,
   "id": "12e8de22",
   "metadata": {},
   "outputs": [
    {
     "name": "stdout",
     "output_type": "stream",
     "text": [
      "0 0 0 31 41 20\n"
     ]
    }
   ],
   "source": [
    "# Number of pixels to add on each side to avoid aliasing effects\n",
    "Nadd_x = int((Nx*mapscale-Nx)/2)\n",
    "Nadd_y = int((Ny*mapscale-Ny)/2)\n",
    "Nadd_z = int((Nz*mapscale-Nz)/2)\n",
    "Nx_add, Ny_add, Nz_add = int(Nx + 2*Nadd_x), int(Ny + 2*Nadd_y), int(Nz + 2*Nadd_z)\n",
    "\n",
    "print(Nadd_x, Nadd_y, Nadd_z, Nx_add, Ny_add, Nz_add)"
   ]
  },
  {
   "cell_type": "code",
   "execution_count": 5,
   "id": "518b0492",
   "metadata": {},
   "outputs": [],
   "source": [
    "# Bining and k definition\n",
    "k_x = np.fft.fftfreq(Nx, reso)\n",
    "k_y = np.fft.fftfreq(Ny, reso)\n",
    "k_z = np.fft.fftfreq(Nz, rlos)\n",
    "k2d_x, k2d_y = np.meshgrid(k_x, k_y, indexing='ij')\n",
    "k2d = np.sqrt(k2d_x**2 + k2d_y**2)\n",
    "k3d_x, k3d_y, k3d_z = np.meshgrid(k_x, k_y, k_z, indexing='ij')\n",
    "k3d = np.sqrt(k3d_x**2 + k3d_y**2 + k3d_z**2)\n",
    "\n",
    "k_x_add = np.fft.fftfreq(Nx_add, reso)\n",
    "k_y_add = np.fft.fftfreq(Ny_add, reso)\n",
    "k_z_add = np.fft.fftfreq(Nz_add, rlos)\n",
    "k2d_x_add, k2d_y_add = np.meshgrid(k_x_add, k_y_add, indexing='ij')\n",
    "k2d_add = np.sqrt(k2d_x_add**2 + k2d_y_add**2)\n",
    "k3d_x_add, k3d_y_add, k3d_z_add = np.meshgrid(k_x_add, k_y_add, k_z_add, indexing='ij')\n",
    "k3d_add = np.sqrt(k3d_x_add**2 + k3d_y_add**2 + k3d_z_add**2)"
   ]
  },
  {
   "cell_type": "code",
   "execution_count": 6,
   "id": "8d5b21dc",
   "metadata": {},
   "outputs": [
    {
     "data": {
      "text/plain": [
       "<matplotlib.colorbar.Colorbar at 0x1a172dee90>"
      ]
     },
     "execution_count": 6,
     "metadata": {},
     "output_type": "execute_result"
    },
    {
     "data": {
      "image/png": "[encoded data removed]",
      "text/plain": [
       "<Figure size 432x288 with 2 Axes>"
      ]
     },
     "metadata": {
      "needs_background": "light"
     },
     "output_type": "display_data"
    }
   ],
   "source": [
    "window = signal.hann(Nx)[:, np.newaxis] * signal.hann(Ny)\n",
    "plt.imshow(window)\n",
    "plt.colorbar()"
   ]
  },
  {
   "cell_type": "code",
   "execution_count": 7,
   "id": "9b80cb89",
   "metadata": {},
   "outputs": [
    {
     "name": "stderr",
     "output_type": "stream",
     "text": [
      "/Users/adam/Project/anaconda3/envs/ctaphys/lib/python3.7/site-packages/ipykernel_launcher.py:2: RuntimeWarning: divide by zero encountered in power\n",
      "  \n",
      "/Users/adam/Project/anaconda3/envs/ctaphys/lib/python3.7/site-packages/ipykernel_launcher.py:2: RuntimeWarning: divide by zero encountered in true_divide\n",
      "  \n",
      "/Users/adam/Project/anaconda3/envs/ctaphys/lib/python3.7/site-packages/ipykernel_launcher.py:2: RuntimeWarning: invalid value encountered in multiply\n",
      "  \n"
     ]
    }
   ],
   "source": [
    "Nmc = 300\n",
    "Pk_1d_mc  = np.zeros((Nmc, Nx*Ny))\n",
    "Pk_2d_mc = np.zeros((Nmc, Nx, Ny))\n",
    "\n",
    "for imap in range(Nmc):\n",
    "    Pk_in = input_pk(k3d_add)\n",
    "    Pk_in[k3d_add == 0] = 0\n",
    "    image = np.random.normal(0, 1, (Nx_add, Ny_add, Nz_add))\n",
    "    fftfield = np.fft.fftn(image) * np.sqrt(Pk_in / (reso**2*rlos))\n",
    "    image = np.real(np.fft.ifftn(fftfield))\n",
    "    image = image[Nadd_x:Nx_add-Nadd_x, Nadd_y:Ny_add-Nadd_y, Nadd_z:Nz_add-Nadd_z]\n",
    "    image = np.sum(image, axis=2)\n",
    "    '''\n",
    "    Pk_in = input_pk(k2d_add)\n",
    "    Pk_in[k2d_add == 0] = 0\n",
    "    image = np.random.normal(0, 1, (Nx_add, Ny_add))\n",
    "    fftfield = np.fft.fftn(image) * np.sqrt(Pk_in / (reso**2))\n",
    "    image = np.real(np.fft.ifftn(fftfield))\n",
    "    image = image[Nadd_x:Nx_add-Nadd_x, Nadd_y:Ny_add-Nadd_y]\n",
    "    '''\n",
    "    #image = image * window**2 * Nx*Ny/np.sum(window)\n",
    "    \n",
    "    fft_image = np.fft.fftn(image)\n",
    "    Pk_1d_mc[imap,:]   = (np.abs(fft_image)**2).flatten() * reso**2 / (Nx*Ny)\n",
    "    Pk_2d_mc[imap,:,:] = np.abs(fft_image)**2 * reso**2 / (Nx*Ny)\n",
    "\n",
    "WF = Nz/rlos\n",
    "#WF = 1\n",
    "\n",
    "Pk_1d = np.mean(Pk_1d_mc, axis=0) / WF\n",
    "Pk_2d = np.mean(Pk_2d_mc, axis=0) / WF"
   ]
  },
  {
   "cell_type": "code",
   "execution_count": 8,
   "id": "4801e5eb",
   "metadata": {},
   "outputs": [
    {
     "data": {
      "text/plain": [
       "<matplotlib.colorbar.Colorbar at 0x1a1737c590>"
      ]
     },
     "execution_count": 8,
     "metadata": {},
     "output_type": "execute_result"
    },
    {
     "data": {
      "image/png": "[encoded data removed]",
      "text/plain": [
       "<Figure size 720x504 with 2 Axes>"
      ]
     },
     "metadata": {
      "needs_background": "light"
     },
     "output_type": "display_data"
    }
   ],
   "source": [
    "plt.figure(figsize=(10,7))\n",
    "plt.imshow(np.log10(np.fft.fftshift(Pk_2d)), vmin=0)\n",
    "plt.colorbar()"
   ]
  },
  {
   "cell_type": "code",
   "execution_count": 9,
   "id": "a174e2e3",
   "metadata": {},
   "outputs": [
    {
     "data": {
      "text/plain": [
       "(4.418329269994602e-28, 209737.3319108301)"
      ]
     },
     "execution_count": 9,
     "metadata": {},
     "output_type": "execute_result"
    },
    {
     "data": {
      "image/png": "[encoded data removed]",
      "text/plain": [
       "<Figure size 432x288 with 1 Axes>"
      ]
     },
     "metadata": {
      "needs_background": "light"
     },
     "output_type": "display_data"
    }
   ],
   "source": [
    "k=np.logspace(-3,0, 1000)\n",
    "pk_in = input_pk(k)\n",
    "plt.loglog(k, pk_in)\n",
    "plt.loglog(k2d.flatten(), Pk_1d, marker='.', ls='')\n",
    "plt.ylim(np.amin(Pk_1d)/2,np.amax(Pk_1d)*2)"
   ]
  },
  {
   "cell_type": "code",
   "execution_count": 10,
   "id": "844f63a4",
   "metadata": {},
   "outputs": [
    {
     "name": "stderr",
     "output_type": "stream",
     "text": [
      "/Users/adam/Project/anaconda3/envs/ctaphys/lib/python3.7/site-packages/ipykernel_launcher.py:2: RuntimeWarning: divide by zero encountered in power\n",
      "  \n",
      "/Users/adam/Project/anaconda3/envs/ctaphys/lib/python3.7/site-packages/ipykernel_launcher.py:2: RuntimeWarning: divide by zero encountered in true_divide\n",
      "  \n",
      "/Users/adam/Project/anaconda3/envs/ctaphys/lib/python3.7/site-packages/ipykernel_launcher.py:2: RuntimeWarning: invalid value encountered in multiply\n",
      "  \n"
     ]
    },
    {
     "data": {
      "text/plain": [
       "<matplotlib.lines.Line2D at 0x1a1868cf10>"
      ]
     },
     "execution_count": 10,
     "metadata": {},
     "output_type": "execute_result"
    },
    {
     "data": {
      "image/png": "[encoded data removed]",
      "text/plain": [
       "<Figure size 432x288 with 1 Axes>"
      ]
     },
     "metadata": {
      "needs_background": "light"
     },
     "output_type": "display_data"
    }
   ],
   "source": [
    "pk_in_itpl = input_pk(k2d.flatten())\n",
    "plt.plot(k2d.flatten(), Pk_1d/pk_in_itpl, marker='.', ls='')\n",
    "plt.axhline(1, ls='--', color='k')"
   ]
  },
  {
   "cell_type": "code",
   "execution_count": null,
   "id": "d2884a1f",
   "metadata": {},
   "outputs": [],
   "source": []
  }
 ],
 "metadata": {
  "kernelspec": {
   "display_name": "Python 3",
   "language": "python",
   "name": "python3"
  },
  "language_info": {
   "codemirror_mode": {
    "name": "ipython",
    "version": 3
   },
   "file_extension": ".py",
   "mimetype": "text/x-python",
   "name": "python",
   "nbconvert_exporter": "python",
   "pygments_lexer": "ipython3",
   "version": "3.7.12"
  }
 },
 "nbformat": 4,
 "nbformat_minor": 5
}
